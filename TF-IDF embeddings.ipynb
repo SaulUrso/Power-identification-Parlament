{
 "cells": [
  {
   "cell_type": "markdown",
   "metadata": {},
   "source": [
    "## Test tf-idf embeddings"
   ]
  },
  {
   "cell_type": "code",
   "execution_count": 2,
   "metadata": {},
   "outputs": [],
   "source": [
    "import datautils\n",
    "from sklearn.model_selection import ParameterGrid\n",
    "from sklearn.metrics import f1_score\n",
    "import pandas as pd\n",
    "from sklearn.linear_model import LogisticRegression\n",
    "from sklearn.metrics import f1_score\n",
    "from sklearn.metrics import recall_score\n",
    "from sklearn.metrics import precision_score\n",
    "\n",
    "\n",
    "\n",
    "PATH = './Dataset/power-gb-train.tsv'\n",
    "RES_DIR = './Results/'"
   ]
  },
  {
   "cell_type": "markdown",
   "metadata": {},
   "source": [
    "In this cell we split the data set and we vectorize the training set, validation set and test set"
   ]
  },
  {
   "cell_type": "code",
   "execution_count": 3,
   "metadata": {},
   "outputs": [],
   "source": [
    "#split of the dataset in training validation and test\n",
    "X_train, y_train, X_val, y_val, X_test,y_test = datautils.split_holdout_dataset(PATH)\n",
    "#vectorization of the three sets that we obtained\n",
    "X_train, vectorizer = datautils.tf_idf_preprocessing(X_train)\n",
    "X_val = vectorizer.transform(X_val)\n",
    "X_test = vectorizer.transform(X_test)"
   ]
  },
  {
   "cell_type": "markdown",
   "metadata": {},
   "source": [
    "In the cell below we procede with the grid search over the hyperparameters of the logistic regression"
   ]
  },
  {
   "cell_type": "code",
   "execution_count": 5,
   "metadata": {},
   "outputs": [
    {
     "name": "stdout",
     "output_type": "stream",
     "text": [
      "Parameters: {'C': 1.0, 'max_iter': 200, 'penalty': 'l2', 'solver': 'lbfgs'}\n",
      "\tF1 score: 0.7794505202068974\n"
     ]
    },
    {
     "name": "stderr",
     "output_type": "stream",
     "text": [
      "C:\\Users\\filip\\AppData\\Local\\Temp\\ipykernel_19044\\2327280681.py:37: FutureWarning: The behavior of DataFrame concatenation with empty or all-NA entries is deprecated. In a future version, this will no longer exclude empty or all-NA columns when determining the result dtypes. To retain the old behavior, exclude the relevant entries before the concat operation.\n",
      "  results_df = pd.concat(\n"
     ]
    }
   ],
   "source": [
    "#definition of the hyperparameters of the logistic regression\n",
    "#this part has been commented and the greed search was execute only on the best hyperparameters\n",
    "#hyperparameters = {\n",
    "    #\"penalty\": [\"l2\"],\n",
    "    #\"C\": [0.1, 1.0, 10.0, 100.0, 1000.0, 1500],\n",
    "    #\"solver\": [\"lbfgs\"],\n",
    "    #\"max_iter\": [100, 200, 500, 700 ],\n",
    "#}\n",
    "#\n",
    "hyperparameters = {\n",
    "    \"penalty\": [\"l2\"],\n",
    "    \"C\": [ 1.0],\n",
    "    \"solver\": [\"lbfgs\"],\n",
    "    \"max_iter\": [ 200],\n",
    "}\n",
    "param_grid = list(ParameterGrid(hyperparameters))\n",
    "\n",
    "results_df = pd.DataFrame(\n",
    "    columns=[\"penalty\", \"C\", \"solver\", \"max_iter\", \"F1 Score\", 'Precision','Recall']\n",
    ")\n",
    "\n",
    "for par in param_grid:\n",
    "   \n",
    "   #we create the model and train it on the training set\n",
    "    model = LogisticRegression(**par)\n",
    "    model.fit(X_train, y_train)\n",
    "    \n",
    "\n",
    "    # Compute F1 score, Precision and Recall on validation set\n",
    "    y_val_pred = model.predict(X_val)\n",
    "    f1_macro = f1_score(y_val, y_val_pred, average=\"macro\")\n",
    "    recall= recall_score(y_val,y_val_pred)\n",
    "    precision=precision_score(y_val,y_val_pred)\n",
    "\n",
    "    print(f\"Parameters: {par}\")\n",
    "    print(f\"\\tF1 score: {f1_macro}\")\n",
    "    #save them into a dataframe\n",
    "    results_df = pd.concat(\n",
    "        [\n",
    "            results_df,\n",
    "            pd.DataFrame(\n",
    "                {\n",
    "                    \"penalty\": par[\"penalty\"],\n",
    "                    \"C\": par[\"C\"],\n",
    "                    \"solver\": par[\"solver\"],\n",
    "                    \"max_iter\": par[\"max_iter\"],\n",
    "                    \"F1 Score\": f1_macro,\n",
    "                    'Precision':precision,\n",
    "                    'Recall':recall\n",
    "                },\n",
    "                index=[0],\n",
    "            ),\n",
    "        ],\n",
    "        ignore_index=True,\n",
    "    )\n",
    "results_df.to_csv(RES_DIR+\"results-Logistic-tfidf1.csv\", index=False)"
   ]
  },
  {
   "cell_type": "markdown",
   "metadata": {},
   "source": [
    "In the last cell we take the best combination of the hyperparameters and compute the values of the f1 score, recall and precision over the test set"
   ]
  },
  {
   "cell_type": "code",
   "execution_count": 8,
   "metadata": {},
   "outputs": [
    {
     "name": "stdout",
     "output_type": "stream",
     "text": [
      "Confusion matrix\n",
      "[[ 960  484]\n",
      " [ 254 1628]]\n",
      "\tF1 score: 0.7687852320241084\n",
      "\tRecall: 0.8650371944739639\n",
      "\tPrecision: 0.7708333333333334\n"
     ]
    }
   ],
   "source": [
    "from sklearn.metrics import confusion_matrix\n",
    "#creation of the model and fitting with the training data\n",
    "model = LogisticRegression(C=1.0,max_iter=200,solver='lbfgs',penalty='l2')\n",
    "model.fit(X_train, y_train)\n",
    "\n",
    "\n",
    "# Compute F1 score, Precision and Recall on the test set\n",
    "y_test_pred = model.predict(X_test)\n",
    "f1_macro = f1_score(y_test, y_test_pred, average=\"macro\")\n",
    "recall= recall_score(y_test,y_test_pred)\n",
    "precision=precision_score(y_test,y_test_pred)\n",
    "\n",
    "confusionmatrix=confusion_matrix(y_test,y_test_pred)\n",
    "print('Confusion matrix')\n",
    "print(confusionmatrix)\n",
    "\n",
    "#print of the score that we compute above\n",
    "print(f\"\\tF1 score: {f1_macro}\")\n",
    "print(f\"\\tRecall: {recall}\")\n",
    "print(f\"\\tPrecision: {precision}\")\n",
    "#we create the confusion matrix"
   ]
  }
 ],
 "metadata": {
  "kernelspec": {
   "display_name": "Python 3",
   "language": "python",
   "name": "python3"
  },
  "language_info": {
   "codemirror_mode": {
    "name": "ipython",
    "version": 3
   },
   "file_extension": ".py",
   "mimetype": "text/x-python",
   "name": "python",
   "nbconvert_exporter": "python",
   "pygments_lexer": "ipython3",
   "version": "3.11.1"
  }
 },
 "nbformat": 4,
 "nbformat_minor": 2
}
