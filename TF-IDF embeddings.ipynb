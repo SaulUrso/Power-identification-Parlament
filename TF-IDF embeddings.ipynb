{
 "cells": [
  {
   "cell_type": "markdown",
   "metadata": {},
   "source": [
    "## Test tf-idf embeddings"
   ]
  },
  {
   "cell_type": "code",
   "execution_count": null,
   "metadata": {},
   "outputs": [],
   "source": [
    "import datautils\n",
    "from sklearn.model_selection import ParameterGrid\n",
    "from sklearn.metrics import f1_score\n",
    "import pandas as pd\n",
    "from sklearn.linear_model import LogisticRegression\n",
    "from sklearn.metrics import f1_score\n",
    "from sklearn.metrics import recall_score\n",
    "from sklearn.metrics import precision_score\n",
    "\n",
    "\n",
    "\n",
    "PATH = './Dataset/power-gb-train.tsv'\n",
    "RES_DIR = './Results/'"
   ]
  },
  {
   "cell_type": "markdown",
   "metadata": {},
   "source": [
    "In this cell we split the data set and we vectorize the training set, validation set and test set"
   ]
  },
  {
   "cell_type": "code",
   "execution_count": null,
   "metadata": {},
   "outputs": [],
   "source": [
    "#split of the dataset in training validation and test\n",
    "X_train, y_train, X_val, y_val, X_test,y_test = datautils.split_holdout_dataset(PATH)\n",
    "#vectorization of the three sets that we obtained\n",
    "X_train, vectorizer = datautils.tf_idf_preprocessing(X_train)\n",
    "X_val = vectorizer.transform(X_val)\n",
    "X_test = vectorizer.transform(X_test)"
   ]
  },
  {
   "cell_type": "markdown",
   "metadata": {},
   "source": [
    "In the cell below we procede with the grid search over the hyperparameters of the logistic regression"
   ]
  },
  {
   "cell_type": "code",
   "execution_count": null,
   "metadata": {},
   "outputs": [],
   "source": [
    "#definition of the hyperparameters of the logistic regression\n",
    "hyperparameters = {\n",
    "    \"penalty\": [\"l2\"],\n",
    "    \"C\": [0.1, 1.0, 10.0, 100.0, 1000.0, 1500],\n",
    "    \"solver\": [\"lbfgs\"],\n",
    "    \"max_iter\": [100, 200, 500, 700 ],\n",
    "}\n",
    "\n",
    "param_grid = list(ParameterGrid(hyperparameters))\n",
    "\n",
    "results_df = pd.DataFrame(\n",
    "    columns=[\"penalty\", \"C\", \"solver\", \"max_iter\", \"F1 Score\", 'Precision','Recall']\n",
    ")\n",
    "\n",
    "for par in param_grid:\n",
    "   \n",
    "   #we create the model and train it on the training set\n",
    "    model = LogisticRegression(**par)\n",
    "    model.fit(X_train, y_train)\n",
    "    \n",
    "\n",
    "    # Compute F1 score, Precision and Recall on validation set\n",
    "    y_val_pred = model.predict(X_val)\n",
    "    f1_macro = f1_score(y_val, y_val_pred, average=\"macro\")\n",
    "    recall= recall_score(y_val,y_val_pred)\n",
    "    precision=precision_score(y_val,y_val_pred)\n",
    "\n",
    "    print(f\"Parameters: {par}\")\n",
    "    print(f\"\\tF1 score: {f1_macro}\")\n",
    "    #save them into a dataframe\n",
    "    results_df = pd.concat(\n",
    "        [\n",
    "            results_df,\n",
    "            pd.DataFrame(\n",
    "                {\n",
    "                    \"penalty\": par[\"penalty\"],\n",
    "                    \"C\": par[\"C\"],\n",
    "                    \"solver\": par[\"solver\"],\n",
    "                    \"max_iter\": par[\"max_iter\"],\n",
    "                    \"F1 Score\": f1_macro,\n",
    "                    'Precision':precision,\n",
    "                    'Recall':recall\n",
    "                },\n",
    "                index=[0],\n",
    "            ),\n",
    "        ],\n",
    "        ignore_index=True,\n",
    "    )\n",
    "results_df.to_csv(RES_DIR+\"results-Logistic-tfidf1.csv\", index=False)"
   ]
  },
  {
   "cell_type": "markdown",
   "metadata": {},
   "source": [
    "In the last cell we take the best combination of the hyperparameters and compute the values of the f1 score, recall and precision over the test set"
   ]
  },
  {
   "cell_type": "code",
   "execution_count": null,
   "metadata": {},
   "outputs": [],
   "source": [
    "\n",
    "#creation of the model and fitting with the training data\n",
    "model = LogisticRegression(C=1.0,max_iter=200,solver='lbfgs',penalty='l2')\n",
    "model.fit(X_train, y_train)\n",
    "\n",
    "\n",
    "# Compute F1 score, Precision and Recall on the test set\n",
    "y_test_pred = model.predict(X_test)\n",
    "f1_macro = f1_score(y_test, y_test_pred, average=\"macro\")\n",
    "recall= recall_score(y_test,y_test_pred)\n",
    "precision=precision_score(y_test,y_test_pred)\n",
    "\n",
    "#print of the score that we compute above\n",
    "print(f\"\\tF1 score: {f1_macro}\")\n",
    "print(f\"\\tRecall: {recall}\")\n",
    "print(f\"\\tPrecision: {precision}\")"
   ]
  }
 ],
 "metadata": {
  "kernelspec": {
   "display_name": "Python 3",
   "language": "python",
   "name": "python3"
  },
  "language_info": {
   "name": "python",
   "version": "3.10.9"
  }
 },
 "nbformat": 4,
 "nbformat_minor": 2
}
