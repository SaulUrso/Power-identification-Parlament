{
 "cells": [
  {
   "cell_type": "markdown",
   "metadata": {},
   "source": [
    "# Simple NN with pooling"
   ]
  },
  {
   "cell_type": "code",
   "execution_count": 8,
   "metadata": {},
   "outputs": [],
   "source": [
    "from sklearn.metrics import f1_score\n",
    "import pandas as pd\n",
    "import datautils\n",
    "import simpleNN\n",
    "import torch\n",
    "from sklearn.model_selection import ParameterGrid\n",
    "import time"
   ]
  },
  {
   "cell_type": "code",
   "execution_count": 9,
   "metadata": {},
   "outputs": [],
   "source": [
    "PATH = './Dataset/power-gb-train.tsv'\n",
    "RES_DIR = './Results/'\n",
    "EMBED_DIR = './Embeddings/'"
   ]
  },
  {
   "cell_type": "markdown",
   "metadata": {},
   "source": []
  },
  {
   "cell_type": "markdown",
   "metadata": {},
   "source": [
    "## Tf-idf embeddings"
   ]
  },
  {
   "cell_type": "code",
   "execution_count": 10,
   "metadata": {},
   "outputs": [],
   "source": [
    "X_train, y_train, X_val, y_val, _, _ = datautils.split_kfold_dataset(PATH)\n",
    "\n",
    "for idx, (tr_fold, val_fold) in enumerate(zip(X_train, X_val)):\n",
    "\n",
    "    X_train[idx], vectorizer = datautils.tf_idf_preprocessing(tr_fold)\n",
    "    X_val[idx] = vectorizer.transform(val_fold)"
   ]
  },
  {
   "cell_type": "code",
   "execution_count": 7,
   "metadata": {},
   "outputs": [
    {
     "name": "stdout",
     "output_type": "stream",
     "text": [
      "Training a simple NN\n",
      "hyperparams: hidden neurons=20 lr=0.001 epochs=10 batch size=1:\n",
      "Fold:  1\n"
     ]
    },
    {
     "ename": "NameError",
     "evalue": "name 'time' is not defined",
     "output_type": "error",
     "traceback": [
      "\u001b[1;31m---------------------------------------------------------------------------\u001b[0m",
      "\u001b[1;31mNameError\u001b[0m                                 Traceback (most recent call last)",
      "Cell \u001b[1;32mIn[7], line 26\u001b[0m\n\u001b[0;32m     24\u001b[0m \u001b[38;5;28mprint\u001b[39m(\u001b[38;5;124m\"\u001b[39m\u001b[38;5;124mFold: \u001b[39m\u001b[38;5;124m\"\u001b[39m, k\u001b[38;5;241m+\u001b[39m\u001b[38;5;241m1\u001b[39m)\n\u001b[0;32m     25\u001b[0m simple_nn\u001b[38;5;241m=\u001b[39msimpleNN\u001b[38;5;241m.\u001b[39mSimpleNN(fold_X_train\u001b[38;5;241m.\u001b[39mshape[\u001b[38;5;241m1\u001b[39m],hidden_neurons)\n\u001b[1;32m---> 26\u001b[0m start \u001b[38;5;241m=\u001b[39m \u001b[43mtime\u001b[49m\u001b[38;5;241m.\u001b[39mtime()\n\u001b[0;32m     27\u001b[0m fold_precision,fold_recall,fold_fscore\u001b[38;5;241m=\u001b[39msimpleNN\u001b[38;5;241m.\u001b[39mtrain_simpleNN(\n\u001b[0;32m     28\u001b[0m             fold_X_train,fold_X_val, \n\u001b[0;32m     29\u001b[0m             fold_y_train,fold_y_val,\n\u001b[1;32m   (...)\u001b[0m\n\u001b[0;32m     35\u001b[0m             verbose\u001b[38;5;241m=\u001b[39m\u001b[38;5;28;01mTrue\u001b[39;00m\n\u001b[0;32m     36\u001b[0m             )\n\u001b[0;32m     37\u001b[0m stop \u001b[38;5;241m=\u001b[39m time\u001b[38;5;241m.\u001b[39mtime()\n",
      "\u001b[1;31mNameError\u001b[0m: name 'time' is not defined"
     ]
    }
   ],
   "source": [
    "\n",
    "\n",
    "\n",
    "grid = list(ParameterGrid(\n",
    "    {\n",
    "        \"hidden_neurons\": [20], \n",
    "        \"lr\": [1e-3, 1e-2, 1e-1],\n",
    "        \"epochs\": [10,20],\n",
    "        \"batch size\": [1,5,10]\n",
    "    }\n",
    "))\n",
    "# train simple NN here\n",
    "results_df = pd.DataFrame(\n",
    "    columns=[\"hidden neurons\",\"optimizer\",\"batch size\" ,\"epochs\", \"F1 Score\", \"Recall\", \"Precision\"]\n",
    ")\n",
    "print(f\"Training a simple NN\")\n",
    "for params in grid:\n",
    "    hidden_neurons = params[\"hidden_neurons\"]\n",
    "    lr = params[\"lr\"]\n",
    "    epochs = params[\"epochs\"]\n",
    "    batch_size = params[\"batch size\"]\n",
    "    print(f\"hyperparams: hidden neurons={hidden_neurons} lr={lr} epochs={epochs} batch size={1}:\")\n",
    "    for k, (fold_X_train,fold_y_train,fold_X_val,fold_y_val) in enumerate(zip(X_train, y_train,X_val,y_val)):\n",
    "        print(\"Fold: \", k+1)\n",
    "        simple_nn=simpleNN.SimpleNN(fold_X_train.shape[1],hidden_neurons)\n",
    "        start = time.time()\n",
    "        fold_precision,fold_recall,fold_fscore=simpleNN.train_simpleNN(\n",
    "                    fold_X_train,fold_X_val, \n",
    "                    fold_y_train,fold_y_val,\n",
    "                    loss_fn=torch.nn.BCELoss(),\n",
    "                    model = simple_nn, \n",
    "                    optimizer=torch.optim.SGD(simple_nn.parameters(),lr=lr),\n",
    "                    epochs=epochs,\n",
    "                    batch_size=batch_size,\n",
    "                    verbose=True\n",
    "                    )\n",
    "        stop = time.time()\n",
    "        print(f\"precision={fold_precision},recall={fold_recall},score={fold_fscore}\")\n",
    "        results_df = pd.concat(\n",
    "            [\n",
    "                results_df,\n",
    "                pd.DataFrame(\n",
    "                    {\n",
    "                        \"batch size\": batch_size,\n",
    "                        \"hidden neurons\": params[\"hidden_neurons\"],\n",
    "                        \"learning rate\": params[\"lr\"],\n",
    "                        \"optimizer\": \"SGD\",\n",
    "                        \"epochs\": params[\"epochs\"],\n",
    "                        \"Fold\": k,\n",
    "                        \"Loss\":\"BCELoss\",\n",
    "                        \"F1 Score\": fold_fscore,\n",
    "                        \"Recall\": fold_recall,\n",
    "                        \"Precision\": fold_precision,\n",
    "                        \"Time\": stop - start,\n",
    "\n",
    "                    },\n",
    "                    index=[0],\n",
    "                ),\n",
    "            ],\n",
    "            ignore_index=True,\n",
    "        )\n",
    "    # save results every time we finish a fold in case of crash\n",
    "    results_df.to_csv(RES_DIR + \"results-SimpleNN-tfidf.csv\", index=False)\n",
    "results_df"
   ]
  },
  {
   "cell_type": "markdown",
   "metadata": {},
   "source": [
    "## Word2vec embeddings"
   ]
  },
  {
   "cell_type": "code",
   "execution_count": null,
   "metadata": {},
   "outputs": [],
   "source": [
    "from gensim.models import KeyedVectors\n",
    "from gensim.utils import simple_preprocess"
   ]
  },
  {
   "cell_type": "code",
   "execution_count": null,
   "metadata": {},
   "outputs": [],
   "source": [
    "X_train, y_train, X_val, y_val, _, _ = datautils.split_kfold_dataset(PATH)\n",
    "\n",
    "for idx, (tr_fold, val_fold) in enumerate(zip(X_train, X_val)):\n",
    "    word_vectors = KeyedVectors.load(EMBED_DIR+f'w2v-fold{idx}.kv', mmap='r')\n",
    "\n",
    "    tr_fold = list(map(simple_preprocess, tr_fold))\n",
    "    val_fold = list(map(simple_preprocess, val_fold))\n",
    "\n",
    "    X_train[idx] = datautils.documents_vector_wv(tr_fold,word_vectors)\n",
    "    X_val[idx] = datautils.documents_vector_wv(val_fold,word_vectors)"
   ]
  },
  {
   "cell_type": "code",
   "execution_count": null,
   "metadata": {},
   "outputs": [],
   "source": [
    "# train simple NN here"
   ]
  },
  {
   "cell_type": "markdown",
   "metadata": {},
   "source": [
    "## Fasttext embeddings"
   ]
  },
  {
   "cell_type": "code",
   "execution_count": null,
   "metadata": {},
   "outputs": [],
   "source": [
    "from gensim.models import KeyedVectors\n",
    "from gensim.utils import simple_preprocess"
   ]
  },
  {
   "cell_type": "code",
   "execution_count": null,
   "metadata": {},
   "outputs": [],
   "source": [
    "X_train, y_train, X_val, y_val, _, _ = datautils.split_kfold_dataset(PATH)\n",
    "\n",
    "for idx, (tr_fold, val_fold) in enumerate(zip(X_train, X_val)):\n",
    "    word_vectors = KeyedVectors.load(EMBED_DIR+f'w2v-fold{idx}.kv', mmap='r')\n",
    "\n",
    "    tr_fold = list(map(simple_preprocess, tr_fold))\n",
    "    val_fold = list(map(simple_preprocess, val_fold))\n",
    "\n",
    "    X_train[idx] = datautils.documents_vector_wv(tr_fold,word_vectors)\n",
    "    X_val[idx] = datautils.documents_vector_wv(val_fold,word_vectors)"
   ]
  },
  {
   "cell_type": "code",
   "execution_count": null,
   "metadata": {},
   "outputs": [],
   "source": [
    "#train simple NN here\n"
   ]
  }
 ],
 "metadata": {
  "kernelspec": {
   "display_name": "HLT",
   "language": "python",
   "name": "python3"
  },
  "language_info": {
   "codemirror_mode": {
    "name": "ipython",
    "version": 3
   },
   "file_extension": ".py",
   "mimetype": "text/x-python",
   "name": "python",
   "nbconvert_exporter": "python",
   "pygments_lexer": "ipython3",
   "version": "3.12.3"
  }
 },
 "nbformat": 4,
 "nbformat_minor": 2
}
