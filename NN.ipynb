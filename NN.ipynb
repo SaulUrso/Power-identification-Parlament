{
 "cells": [
  {
   "cell_type": "markdown",
   "metadata": {},
   "source": [
    "# Simple NN with pooling"
   ]
  },
  {
   "cell_type": "code",
   "execution_count": 1,
   "metadata": {},
   "outputs": [],
   "source": [
    "from sklearn.metrics import f1_score\n",
    "import pandas as pd\n",
    "import datautils\n",
    "import simpleNN"
   ]
  },
  {
   "cell_type": "code",
   "execution_count": 2,
   "metadata": {},
   "outputs": [],
   "source": [
    "PATH = './Dataset/power-gb-train.tsv'\n",
    "RES_DIR = './Results/'\n",
    "EMBED_DIR = './Embeddings/'"
   ]
  },
  {
   "cell_type": "markdown",
   "metadata": {},
   "source": [
    "## Tf-idf embeddings"
   ]
  },
  {
   "cell_type": "code",
   "execution_count": null,
   "metadata": {},
   "outputs": [],
   "source": [
    "X_train, y_train, X_val, y_val, _, _ = datautils.split_kfold_dataset(PATH)\n",
    "\n",
    "for idx, (tr_fold, val_fold) in enumerate(zip(X_train, X_val)):\n",
    "\n",
    "    X_train[idx], vectorizer = datautils.tf_idf_preprocessing(tr_fold)\n",
    "    X_val[idx] = vectorizer.transform(val_fold)"
   ]
  },
  {
   "cell_type": "code",
   "execution_count": null,
   "metadata": {},
   "outputs": [],
   "source": [
    "# train simple NN here"
   ]
  },
  {
   "cell_type": "markdown",
   "metadata": {},
   "source": [
    "## Word2vec embeddings"
   ]
  },
  {
   "cell_type": "code",
   "execution_count": 9,
   "metadata": {},
   "outputs": [],
   "source": [
    "from gensim.models import KeyedVectors\n",
    "from gensim.utils import simple_preprocess"
   ]
  },
  {
   "cell_type": "code",
   "execution_count": 10,
   "metadata": {},
   "outputs": [],
   "source": [
    "X_train, y_train, X_val, y_val, _, _ = datautils.split_kfold_dataset(PATH)\n",
    "\n",
    "for idx, (tr_fold, val_fold) in enumerate(zip(X_train, X_val)):\n",
    "    word_vectors = KeyedVectors.load(EMBED_DIR+f'w2v-fold{idx}.kv', mmap='r')\n",
    "\n",
    "    tr_fold = list(map(simple_preprocess, tr_fold))\n",
    "    val_fold = list(map(simple_preprocess, val_fold))\n",
    "\n",
    "    X_train[idx] = datautils.documents_vector_wv(tr_fold,word_vectors)\n",
    "    X_val[idx] = datautils.documents_vector_wv(val_fold,word_vectors)"
   ]
  },
  {
   "cell_type": "code",
   "execution_count": 8,
   "metadata": {},
   "outputs": [
    {
     "data": {
      "text/plain": [
       "True"
      ]
     },
     "execution_count": 8,
     "metadata": {},
     "output_type": "execute_result"
    }
   ],
   "source": [
    "# train simple NN here"
   ]
  },
  {
   "cell_type": "markdown",
   "metadata": {},
   "source": [
    "## Fasttext embeddings"
   ]
  },
  {
   "cell_type": "code",
   "execution_count": 1,
   "metadata": {},
   "outputs": [],
   "source": [
    "from gensim.models import KeyedVectors\n",
    "from gensim.utils import simple_preprocess"
   ]
  },
  {
   "cell_type": "code",
   "execution_count": null,
   "metadata": {},
   "outputs": [],
   "source": [
    "X_train, y_train, X_val, y_val, _, _ = datautils.split_kfold_dataset(PATH)\n",
    "\n",
    "for idx, (tr_fold, val_fold) in enumerate(zip(X_train, X_val)):\n",
    "    word_vectors = KeyedVectors.load(EMBED_DIR+f'w2v-fold{idx}.kv', mmap='r')\n",
    "\n",
    "    tr_fold = list(map(simple_preprocess, tr_fold))\n",
    "    val_fold = list(map(simple_preprocess, val_fold))\n",
    "\n",
    "    X_train[idx] = datautils.documents_vector_wv(tr_fold,word_vectors)\n",
    "    X_val[idx] = datautils.documents_vector_wv(val_fold,word_vectors)"
   ]
  },
  {
   "cell_type": "code",
   "execution_count": null,
   "metadata": {},
   "outputs": [],
   "source": [
    "#train simple NN here"
   ]
  }
 ],
 "metadata": {
  "kernelspec": {
   "display_name": "HLT",
   "language": "python",
   "name": "python3"
  },
  "language_info": {
   "codemirror_mode": {
    "name": "ipython",
    "version": 3
   },
   "file_extension": ".py",
   "mimetype": "text/x-python",
   "name": "python",
   "nbconvert_exporter": "python",
   "pygments_lexer": "ipython3",
   "version": "3.12.2"
  }
 },
 "nbformat": 4,
 "nbformat_minor": 2
}
