{
 "cells": [
  {
   "cell_type": "markdown",
   "metadata": {},
   "source": [
    "# Notebook for testing different embeddings"
   ]
  },
  {
   "cell_type": "code",
   "execution_count": 2,
   "metadata": {},
   "outputs": [],
   "source": [
    "import datautils\n",
    "from sklearn.model_selection import ParameterGrid\n",
    "from sklearn.metrics import f1_score\n",
    "import pandas as pd"
   ]
  },
  {
   "cell_type": "code",
   "execution_count": 4,
   "metadata": {},
   "outputs": [],
   "source": [
    "PATH = './Dataset/power-gb-train.tsv'\n",
    "RES_DIR = './Results/'\n",
    "EMBED_DIR = './Embeddings/'"
   ]
  },
  {
   "cell_type": "markdown",
   "metadata": {},
   "source": [
    "## Test tf-idf embeddings"
   ]
  },
  {
   "cell_type": "code",
   "execution_count": null,
   "metadata": {},
   "outputs": [],
   "source": [
    "from sklearn.linear_model import LogisticRegression"
   ]
  },
  {
   "cell_type": "code",
   "execution_count": null,
   "metadata": {},
   "outputs": [],
   "source": [
    "X_train, y_train, X_val, y_val, _, _ = datautils.split_kfold_dataset(PATH)\n",
    "\n",
    "for idx, (tr_fold, val_fold) in enumerate(zip(X_train, X_val)):\n",
    "\n",
    "    X_train[idx], vectorizer = datautils.tf_idf_preprocessing(tr_fold)\n",
    "    X_val[idx] = vectorizer.transform(val_fold)"
   ]
  },
  {
   "cell_type": "code",
   "execution_count": null,
   "metadata": {},
   "outputs": [],
   "source": [
    "hyperparameters = {\n",
    "    \"penalty\": [\"l2\"],\n",
    "    \"C\": [0.1, 1.0, 10.0, 100.0, 1000.0],\n",
    "    \"solver\": [\"lbfgs\"],\n",
    "    \"max_iter\": [100, 200, 500],\n",
    "}\n",
    "\n",
    "param_grid = list(ParameterGrid(hyperparameters))\n",
    "\n",
    "results_df = pd.DataFrame(\n",
    "    columns=[\"penalty\", \"C\", \"solver\", \"max_iter\", \"Fold\", \"F1 Score\"]\n",
    ")\n",
    "\n",
    "for par in param_grid:\n",
    "    for idx, (X_train_fold, y_train_fold, X_val_fold, y_val_fold) in enumerate(\n",
    "        zip(X_train, y_train, X_val, y_val)\n",
    "    ):\n",
    "        model = LogisticRegression(**par)\n",
    "        model.fit(X_train_fold, y_train_fold)\n",
    "\n",
    "        # Compute F1 score on validation set\n",
    "        y_val_pred = model.predict(X_val_fold)\n",
    "        f1_macro = f1_score(y_val_fold, y_val_pred, average=\"macro\")\n",
    "\n",
    "        print(f\"Fold: {idx}\")\n",
    "        print(f\"Parameters: {par}\")\n",
    "        print(f\"\\tF1 score: {f1_macro}\")\n",
    "        results_df = pd.concat(\n",
    "            [\n",
    "                results_df,\n",
    "                pd.DataFrame(\n",
    "                    {\n",
    "                        \"penalty\": par[\"penalty\"],\n",
    "                        \"C\": par[\"C\"],\n",
    "                        \"solver\": par[\"solver\"],\n",
    "                        \"max_iter\": par[\"max_iter\"],\n",
    "                        \"Fold\": idx,\n",
    "                        \"F1 Score\": f1_macro,\n",
    "                    },\n",
    "                    index=[0],\n",
    "                ),\n",
    "            ],\n",
    "            ignore_index=True,\n",
    "        )\n",
    "\n",
    "results_df.to_csv(RES_DIR\"results-Logistic-tfidf.csv\", index=False)"
   ]
  },
  {
   "cell_type": "code",
   "execution_count": null,
   "metadata": {},
   "outputs": [],
   "source": [
    "mean_f1 = results_df.groupby(['penalty', 'C', 'solver', 'max_iter'])['F1 Score'].mean()\n",
    "std_f1 = results_df.groupby(['penalty', 'C', 'solver', 'max_iter'])['F1 Score'].std()\n"
   ]
  },
  {
   "cell_type": "code",
   "execution_count": null,
   "metadata": {},
   "outputs": [],
   "source": [
    "mean_f1"
   ]
  },
  {
   "cell_type": "markdown",
   "metadata": {},
   "source": [
    "## Test word2vec embeddings"
   ]
  },
  {
   "cell_type": "code",
   "execution_count": 11,
   "metadata": {},
   "outputs": [],
   "source": [
    "from sklearn.linear_model import LogisticRegression\n",
    "from gensim.utils import simple_preprocess\n",
    "from gensim.models import Word2Vec\n",
    "from datautils import documents_vector"
   ]
  },
  {
   "cell_type": "code",
   "execution_count": 12,
   "metadata": {},
   "outputs": [],
   "source": [
    "X_train, y_train, X_val, y_val, _, _ = datautils.split_kfold_dataset(PATH)\n",
    "\n",
    "for idx, (tr_fold, val_fold) in enumerate(zip(X_train, X_val)):\n",
    "    tr_fold = list(map(simple_preprocess, tr_fold))\n",
    "    val_fold = list(map(simple_preprocess, val_fold))\n",
    "\n",
    "    # w2v model training\n",
    "    modelw2v = Word2Vec(\n",
    "        tr_fold,\n",
    "        vector_size=150,\n",
    "        window=10,\n",
    "        min_count=2,\n",
    "        workers=8,\n",
    "    )\n",
    "\n",
    "    # Save word vectors\n",
    "    word_vectors = modelw2v.wv\n",
    "    word_vectors.save(f\"./Embeddings/w2v-fold{idx}.kv\")\n",
    "\n",
    "    # Pooling\n",
    "    X_train[idx] = documents_vector(tr_fold, modelw2v)\n",
    "    X_val[idx] = documents_vector(val_fold, modelw2v)"
   ]
  },
  {
   "cell_type": "code",
   "execution_count": 13,
   "metadata": {},
   "outputs": [
    {
     "name": "stdout",
     "output_type": "stream",
     "text": [
      "Fold: 0\n",
      "Parameters: {'C': 0.1, 'max_iter': 100, 'penalty': 'l2', 'solver': 'lbfgs'}\n",
      "\tF1 score: 0.7240671936351502\n"
     ]
    },
    {
     "name": "stderr",
     "output_type": "stream",
     "text": [
      "/var/folders/7r/qvcjkyfd0k59hjv_yfvc3hj00000gn/T/ipykernel_47314/1229342532.py:28: FutureWarning: The behavior of DataFrame concatenation with empty or all-NA entries is deprecated. In a future version, this will no longer exclude empty or all-NA columns when determining the result dtypes. To retain the old behavior, exclude the relevant entries before the concat operation.\n",
      "  results_df = pd.concat(\n"
     ]
    },
    {
     "name": "stdout",
     "output_type": "stream",
     "text": [
      "Fold: 1\n",
      "Parameters: {'C': 0.1, 'max_iter': 100, 'penalty': 'l2', 'solver': 'lbfgs'}\n",
      "\tF1 score: 0.7190333539225358\n",
      "Fold: 2\n",
      "Parameters: {'C': 0.1, 'max_iter': 100, 'penalty': 'l2', 'solver': 'lbfgs'}\n",
      "\tF1 score: 0.7143804443574435\n",
      "Fold: 3\n",
      "Parameters: {'C': 0.1, 'max_iter': 100, 'penalty': 'l2', 'solver': 'lbfgs'}\n",
      "\tF1 score: 0.7192156020400777\n",
      "Fold: 4\n",
      "Parameters: {'C': 0.1, 'max_iter': 100, 'penalty': 'l2', 'solver': 'lbfgs'}\n",
      "\tF1 score: 0.7171419909651418\n",
      "Fold: 0\n",
      "Parameters: {'C': 0.1, 'max_iter': 200, 'penalty': 'l2', 'solver': 'lbfgs'}\n",
      "\tF1 score: 0.7240671936351502\n",
      "Fold: 1\n",
      "Parameters: {'C': 0.1, 'max_iter': 200, 'penalty': 'l2', 'solver': 'lbfgs'}\n",
      "\tF1 score: 0.7190333539225358\n",
      "Fold: 2\n",
      "Parameters: {'C': 0.1, 'max_iter': 200, 'penalty': 'l2', 'solver': 'lbfgs'}\n",
      "\tF1 score: 0.7143804443574435\n",
      "Fold: 3\n",
      "Parameters: {'C': 0.1, 'max_iter': 200, 'penalty': 'l2', 'solver': 'lbfgs'}\n",
      "\tF1 score: 0.7192156020400777\n",
      "Fold: 4\n",
      "Parameters: {'C': 0.1, 'max_iter': 200, 'penalty': 'l2', 'solver': 'lbfgs'}\n",
      "\tF1 score: 0.7171419909651418\n",
      "Fold: 0\n",
      "Parameters: {'C': 0.1, 'max_iter': 500, 'penalty': 'l2', 'solver': 'lbfgs'}\n",
      "\tF1 score: 0.7240671936351502\n",
      "Fold: 1\n",
      "Parameters: {'C': 0.1, 'max_iter': 500, 'penalty': 'l2', 'solver': 'lbfgs'}\n",
      "\tF1 score: 0.7190333539225358\n",
      "Fold: 2\n",
      "Parameters: {'C': 0.1, 'max_iter': 500, 'penalty': 'l2', 'solver': 'lbfgs'}\n",
      "\tF1 score: 0.7143804443574435\n",
      "Fold: 3\n",
      "Parameters: {'C': 0.1, 'max_iter': 500, 'penalty': 'l2', 'solver': 'lbfgs'}\n",
      "\tF1 score: 0.7192156020400777\n",
      "Fold: 4\n",
      "Parameters: {'C': 0.1, 'max_iter': 500, 'penalty': 'l2', 'solver': 'lbfgs'}\n",
      "\tF1 score: 0.7171419909651418\n",
      "Fold: 0\n",
      "Parameters: {'C': 1.0, 'max_iter': 100, 'penalty': 'l2', 'solver': 'lbfgs'}\n",
      "\tF1 score: 0.7244413161805834\n",
      "Fold: 1\n",
      "Parameters: {'C': 1.0, 'max_iter': 100, 'penalty': 'l2', 'solver': 'lbfgs'}\n",
      "\tF1 score: 0.7210410368622182\n",
      "Fold: 2\n",
      "Parameters: {'C': 1.0, 'max_iter': 100, 'penalty': 'l2', 'solver': 'lbfgs'}\n",
      "\tF1 score: 0.7192767115204719\n",
      "Fold: 3\n",
      "Parameters: {'C': 1.0, 'max_iter': 100, 'penalty': 'l2', 'solver': 'lbfgs'}\n",
      "\tF1 score: 0.7221362009667225\n",
      "Fold: 4\n",
      "Parameters: {'C': 1.0, 'max_iter': 100, 'penalty': 'l2', 'solver': 'lbfgs'}\n",
      "\tF1 score: 0.7183421539079329\n",
      "Fold: 0\n",
      "Parameters: {'C': 1.0, 'max_iter': 200, 'penalty': 'l2', 'solver': 'lbfgs'}\n",
      "\tF1 score: 0.7244413161805834\n",
      "Fold: 1\n",
      "Parameters: {'C': 1.0, 'max_iter': 200, 'penalty': 'l2', 'solver': 'lbfgs'}\n",
      "\tF1 score: 0.7210410368622182\n",
      "Fold: 2\n",
      "Parameters: {'C': 1.0, 'max_iter': 200, 'penalty': 'l2', 'solver': 'lbfgs'}\n",
      "\tF1 score: 0.7192767115204719\n",
      "Fold: 3\n",
      "Parameters: {'C': 1.0, 'max_iter': 200, 'penalty': 'l2', 'solver': 'lbfgs'}\n",
      "\tF1 score: 0.7221362009667225\n",
      "Fold: 4\n",
      "Parameters: {'C': 1.0, 'max_iter': 200, 'penalty': 'l2', 'solver': 'lbfgs'}\n",
      "\tF1 score: 0.7183421539079329\n",
      "Fold: 0\n",
      "Parameters: {'C': 1.0, 'max_iter': 500, 'penalty': 'l2', 'solver': 'lbfgs'}\n",
      "\tF1 score: 0.7244413161805834\n",
      "Fold: 1\n",
      "Parameters: {'C': 1.0, 'max_iter': 500, 'penalty': 'l2', 'solver': 'lbfgs'}\n",
      "\tF1 score: 0.7210410368622182\n",
      "Fold: 2\n",
      "Parameters: {'C': 1.0, 'max_iter': 500, 'penalty': 'l2', 'solver': 'lbfgs'}\n",
      "\tF1 score: 0.7192767115204719\n",
      "Fold: 3\n",
      "Parameters: {'C': 1.0, 'max_iter': 500, 'penalty': 'l2', 'solver': 'lbfgs'}\n",
      "\tF1 score: 0.7221362009667225\n",
      "Fold: 4\n",
      "Parameters: {'C': 1.0, 'max_iter': 500, 'penalty': 'l2', 'solver': 'lbfgs'}\n",
      "\tF1 score: 0.7183421539079329\n",
      "Fold: 0\n",
      "Parameters: {'C': 10.0, 'max_iter': 100, 'penalty': 'l2', 'solver': 'lbfgs'}\n",
      "\tF1 score: 0.7251824212040126\n",
      "Fold: 1\n",
      "Parameters: {'C': 10.0, 'max_iter': 100, 'penalty': 'l2', 'solver': 'lbfgs'}\n",
      "\tF1 score: 0.7212008154243801\n",
      "Fold: 2\n",
      "Parameters: {'C': 10.0, 'max_iter': 100, 'penalty': 'l2', 'solver': 'lbfgs'}\n",
      "\tF1 score: 0.7200084402838312\n",
      "Fold: 3\n",
      "Parameters: {'C': 10.0, 'max_iter': 100, 'penalty': 'l2', 'solver': 'lbfgs'}\n",
      "\tF1 score: 0.7220549684357571\n",
      "Fold: 4\n",
      "Parameters: {'C': 10.0, 'max_iter': 100, 'penalty': 'l2', 'solver': 'lbfgs'}\n",
      "\tF1 score: 0.7192723623344089\n",
      "Fold: 0\n",
      "Parameters: {'C': 10.0, 'max_iter': 200, 'penalty': 'l2', 'solver': 'lbfgs'}\n",
      "\tF1 score: 0.7251824212040126\n",
      "Fold: 1\n",
      "Parameters: {'C': 10.0, 'max_iter': 200, 'penalty': 'l2', 'solver': 'lbfgs'}\n",
      "\tF1 score: 0.7212008154243801\n",
      "Fold: 2\n",
      "Parameters: {'C': 10.0, 'max_iter': 200, 'penalty': 'l2', 'solver': 'lbfgs'}\n",
      "\tF1 score: 0.7200084402838312\n",
      "Fold: 3\n",
      "Parameters: {'C': 10.0, 'max_iter': 200, 'penalty': 'l2', 'solver': 'lbfgs'}\n",
      "\tF1 score: 0.7220549684357571\n",
      "Fold: 4\n",
      "Parameters: {'C': 10.0, 'max_iter': 200, 'penalty': 'l2', 'solver': 'lbfgs'}\n",
      "\tF1 score: 0.7192723623344089\n",
      "Fold: 0\n",
      "Parameters: {'C': 10.0, 'max_iter': 500, 'penalty': 'l2', 'solver': 'lbfgs'}\n",
      "\tF1 score: 0.7251824212040126\n",
      "Fold: 1\n",
      "Parameters: {'C': 10.0, 'max_iter': 500, 'penalty': 'l2', 'solver': 'lbfgs'}\n",
      "\tF1 score: 0.7212008154243801\n",
      "Fold: 2\n",
      "Parameters: {'C': 10.0, 'max_iter': 500, 'penalty': 'l2', 'solver': 'lbfgs'}\n",
      "\tF1 score: 0.7200084402838312\n",
      "Fold: 3\n",
      "Parameters: {'C': 10.0, 'max_iter': 500, 'penalty': 'l2', 'solver': 'lbfgs'}\n",
      "\tF1 score: 0.7220549684357571\n",
      "Fold: 4\n",
      "Parameters: {'C': 10.0, 'max_iter': 500, 'penalty': 'l2', 'solver': 'lbfgs'}\n",
      "\tF1 score: 0.7192723623344089\n",
      "Fold: 0\n",
      "Parameters: {'C': 100.0, 'max_iter': 100, 'penalty': 'l2', 'solver': 'lbfgs'}\n",
      "\tF1 score: 0.7253764505287934\n",
      "Fold: 1\n",
      "Parameters: {'C': 100.0, 'max_iter': 100, 'penalty': 'l2', 'solver': 'lbfgs'}\n",
      "\tF1 score: 0.7210463557719137\n",
      "Fold: 2\n",
      "Parameters: {'C': 100.0, 'max_iter': 100, 'penalty': 'l2', 'solver': 'lbfgs'}\n",
      "\tF1 score: 0.7202011220742053\n",
      "Fold: 3\n",
      "Parameters: {'C': 100.0, 'max_iter': 100, 'penalty': 'l2', 'solver': 'lbfgs'}\n",
      "\tF1 score: 0.7215148698493659\n",
      "Fold: 4\n",
      "Parameters: {'C': 100.0, 'max_iter': 100, 'penalty': 'l2', 'solver': 'lbfgs'}\n",
      "\tF1 score: 0.7193511365348383\n",
      "Fold: 0\n",
      "Parameters: {'C': 100.0, 'max_iter': 200, 'penalty': 'l2', 'solver': 'lbfgs'}\n",
      "\tF1 score: 0.7253764505287934\n",
      "Fold: 1\n",
      "Parameters: {'C': 100.0, 'max_iter': 200, 'penalty': 'l2', 'solver': 'lbfgs'}\n",
      "\tF1 score: 0.7210463557719137\n",
      "Fold: 2\n",
      "Parameters: {'C': 100.0, 'max_iter': 200, 'penalty': 'l2', 'solver': 'lbfgs'}\n",
      "\tF1 score: 0.7202011220742053\n",
      "Fold: 3\n",
      "Parameters: {'C': 100.0, 'max_iter': 200, 'penalty': 'l2', 'solver': 'lbfgs'}\n",
      "\tF1 score: 0.7215148698493659\n",
      "Fold: 4\n",
      "Parameters: {'C': 100.0, 'max_iter': 200, 'penalty': 'l2', 'solver': 'lbfgs'}\n",
      "\tF1 score: 0.7193511365348383\n",
      "Fold: 0\n",
      "Parameters: {'C': 100.0, 'max_iter': 500, 'penalty': 'l2', 'solver': 'lbfgs'}\n",
      "\tF1 score: 0.7253764505287934\n",
      "Fold: 1\n",
      "Parameters: {'C': 100.0, 'max_iter': 500, 'penalty': 'l2', 'solver': 'lbfgs'}\n",
      "\tF1 score: 0.7210463557719137\n",
      "Fold: 2\n",
      "Parameters: {'C': 100.0, 'max_iter': 500, 'penalty': 'l2', 'solver': 'lbfgs'}\n",
      "\tF1 score: 0.7202011220742053\n",
      "Fold: 3\n",
      "Parameters: {'C': 100.0, 'max_iter': 500, 'penalty': 'l2', 'solver': 'lbfgs'}\n",
      "\tF1 score: 0.7215148698493659\n",
      "Fold: 4\n",
      "Parameters: {'C': 100.0, 'max_iter': 500, 'penalty': 'l2', 'solver': 'lbfgs'}\n",
      "\tF1 score: 0.7193511365348383\n",
      "Fold: 0\n",
      "Parameters: {'C': 1000.0, 'max_iter': 100, 'penalty': 'l2', 'solver': 'lbfgs'}\n",
      "\tF1 score: 0.7253764505287934\n",
      "Fold: 1\n",
      "Parameters: {'C': 1000.0, 'max_iter': 100, 'penalty': 'l2', 'solver': 'lbfgs'}\n",
      "\tF1 score: 0.721783380906186\n",
      "Fold: 2\n",
      "Parameters: {'C': 1000.0, 'max_iter': 100, 'penalty': 'l2', 'solver': 'lbfgs'}\n",
      "\tF1 score: 0.7199703806990252\n",
      "Fold: 3\n",
      "Parameters: {'C': 1000.0, 'max_iter': 100, 'penalty': 'l2', 'solver': 'lbfgs'}\n",
      "\tF1 score: 0.7215148698493659\n",
      "Fold: 4\n",
      "Parameters: {'C': 1000.0, 'max_iter': 100, 'penalty': 'l2', 'solver': 'lbfgs'}\n",
      "\tF1 score: 0.719078460127816\n",
      "Fold: 0\n",
      "Parameters: {'C': 1000.0, 'max_iter': 200, 'penalty': 'l2', 'solver': 'lbfgs'}\n",
      "\tF1 score: 0.7253764505287934\n",
      "Fold: 1\n",
      "Parameters: {'C': 1000.0, 'max_iter': 200, 'penalty': 'l2', 'solver': 'lbfgs'}\n",
      "\tF1 score: 0.721783380906186\n",
      "Fold: 2\n",
      "Parameters: {'C': 1000.0, 'max_iter': 200, 'penalty': 'l2', 'solver': 'lbfgs'}\n",
      "\tF1 score: 0.7199703806990252\n",
      "Fold: 3\n",
      "Parameters: {'C': 1000.0, 'max_iter': 200, 'penalty': 'l2', 'solver': 'lbfgs'}\n",
      "\tF1 score: 0.7215148698493659\n",
      "Fold: 4\n",
      "Parameters: {'C': 1000.0, 'max_iter': 200, 'penalty': 'l2', 'solver': 'lbfgs'}\n",
      "\tF1 score: 0.719078460127816\n",
      "Fold: 0\n",
      "Parameters: {'C': 1000.0, 'max_iter': 500, 'penalty': 'l2', 'solver': 'lbfgs'}\n",
      "\tF1 score: 0.7253764505287934\n",
      "Fold: 1\n",
      "Parameters: {'C': 1000.0, 'max_iter': 500, 'penalty': 'l2', 'solver': 'lbfgs'}\n",
      "\tF1 score: 0.721783380906186\n",
      "Fold: 2\n",
      "Parameters: {'C': 1000.0, 'max_iter': 500, 'penalty': 'l2', 'solver': 'lbfgs'}\n",
      "\tF1 score: 0.7199703806990252\n",
      "Fold: 3\n",
      "Parameters: {'C': 1000.0, 'max_iter': 500, 'penalty': 'l2', 'solver': 'lbfgs'}\n",
      "\tF1 score: 0.7215148698493659\n",
      "Fold: 4\n",
      "Parameters: {'C': 1000.0, 'max_iter': 500, 'penalty': 'l2', 'solver': 'lbfgs'}\n",
      "\tF1 score: 0.719078460127816\n"
     ]
    }
   ],
   "source": [
    "hyperparameters = {\n",
    "    \"penalty\": [\"l2\"],\n",
    "    \"C\": [0.1, 1.0, 10.0, 100.0, 1000.0],\n",
    "    \"solver\": [\"lbfgs\"],\n",
    "    \"max_iter\": [100, 200, 500],\n",
    "}\n",
    "\n",
    "param_grid = list(ParameterGrid(hyperparameters))\n",
    "\n",
    "results_df = pd.DataFrame(\n",
    "    columns=[\"penalty\", \"C\", \"solver\", \"max_iter\", \"Fold\", \"F1 Score\"]\n",
    ")\n",
    "\n",
    "for par in param_grid:\n",
    "    for idx, (X_train_fold, y_train_fold, X_val_fold, y_val_fold) in enumerate(\n",
    "        zip(X_train, y_train, X_val, y_val)\n",
    "    ):\n",
    "        model = LogisticRegression(**par)\n",
    "        model.fit(X_train_fold, y_train_fold)\n",
    "\n",
    "        # Compute F1 score on validation set\n",
    "        y_val_pred = model.predict(X_val_fold)\n",
    "        f1_macro = f1_score(y_val_fold, y_val_pred, average=\"macro\")\n",
    "\n",
    "        print(f\"Fold: {idx}\")\n",
    "        print(f\"Parameters: {par}\")\n",
    "        print(f\"\\tF1 score: {f1_macro}\")\n",
    "        results_df = pd.concat(\n",
    "            [\n",
    "                results_df,\n",
    "                pd.DataFrame(\n",
    "                    {\n",
    "                        \"penalty\": par[\"penalty\"],\n",
    "                        \"C\": par[\"C\"],\n",
    "                        \"solver\": par[\"solver\"],\n",
    "                        \"max_iter\": par[\"max_iter\"],\n",
    "                        \"Fold\": idx,\n",
    "                        \"F1 Score\": f1_macro,\n",
    "                    },\n",
    "                    index=[0],\n",
    "                ),\n",
    "            ],\n",
    "            ignore_index=True,\n",
    "        )\n",
    "\n",
    "results_df.to_csv(RES_DIR+\"results-Logistic-w2v-batch1.csv\", index=False)"
   ]
  },
  {
   "cell_type": "code",
   "execution_count": 14,
   "metadata": {},
   "outputs": [],
   "source": [
    "mean_f1 = results_df.groupby(['penalty', 'C', 'solver', 'max_iter'])['F1 Score'].mean()\n",
    "std_f1 = results_df.groupby(['penalty', 'C', 'solver', 'max_iter'])['F1 Score'].std()\n"
   ]
  },
  {
   "cell_type": "code",
   "execution_count": 15,
   "metadata": {},
   "outputs": [
    {
     "data": {
      "text/plain": [
       "penalty  C       solver  max_iter\n",
       "l2       0.1     lbfgs   100         0.718768\n",
       "                         200         0.718768\n",
       "                         500         0.718768\n",
       "         1.0     lbfgs   100         0.721047\n",
       "                         200         0.721047\n",
       "                         500         0.721047\n",
       "         10.0    lbfgs   100         0.721544\n",
       "                         200         0.721544\n",
       "                         500         0.721544\n",
       "         100.0   lbfgs   100         0.721498\n",
       "                         200         0.721498\n",
       "                         500         0.721498\n",
       "         1000.0  lbfgs   100         0.721545\n",
       "                         200         0.721545\n",
       "                         500         0.721545\n",
       "Name: F1 Score, dtype: float64"
      ]
     },
     "execution_count": 15,
     "metadata": {},
     "output_type": "execute_result"
    }
   ],
   "source": [
    "mean_f1"
   ]
  },
  {
   "cell_type": "markdown",
   "metadata": {},
   "source": [
    "## Test fasttext embeddings"
   ]
  },
  {
   "cell_type": "code",
   "execution_count": 3,
   "metadata": {},
   "outputs": [],
   "source": [
    "from sklearn.linear_model import LogisticRegression\n",
    "from gensim.utils import simple_preprocess\n",
    "from gensim.models import fasttext\n",
    "from datautils import documents_vector"
   ]
  },
  {
   "cell_type": "code",
   "execution_count": 4,
   "metadata": {},
   "outputs": [],
   "source": [
    "X_train, y_train, X_val, y_val, _, _ = datautils.split_kfold_dataset(PATH)\n",
    "\n",
    "for idx, (tr_fold, val_fold) in enumerate(zip(X_train, X_val)):\n",
    "    tr_fold = list(map(simple_preprocess, tr_fold))\n",
    "    val_fold = list(map(simple_preprocess, val_fold))\n",
    "\n",
    "    # w2v model training\n",
    "    model_ftx = fasttext.FastText(\n",
    "            sentences=tr_fold,\n",
    "            vector_size=150,\n",
    "            window=10,\n",
    "            min_count=2,\n",
    "            workers=10,\n",
    "        )\n",
    "\n",
    "    # Save word vectors\n",
    "    word_vectors = model_ftx.wv\n",
    "    word_vectors.save(f\"./Embeddings/ftx-fold{idx}.kv\")\n",
    "\n",
    "    # Pooling\n",
    "    X_train[idx] = documents_vector(tr_fold, model_ftx)\n",
    "    X_val[idx] = documents_vector(val_fold, model_ftx)"
   ]
  },
  {
   "cell_type": "code",
   "execution_count": 8,
   "metadata": {},
   "outputs": [
    {
     "name": "stderr",
     "output_type": "stream",
     "text": [
      "/Users/saulurso/anaconda3/envs/HLT/lib/python3.12/site-packages/sklearn/linear_model/_logistic.py:469: ConvergenceWarning: lbfgs failed to converge (status=1):\n",
      "STOP: TOTAL NO. of ITERATIONS REACHED LIMIT.\n",
      "\n",
      "Increase the number of iterations (max_iter) or scale the data as shown in:\n",
      "    https://scikit-learn.org/stable/modules/preprocessing.html\n",
      "Please also refer to the documentation for alternative solver options:\n",
      "    https://scikit-learn.org/stable/modules/linear_model.html#logistic-regression\n",
      "  n_iter_i = _check_optimize_result(\n",
      "/var/folders/7r/qvcjkyfd0k59hjv_yfvc3hj00000gn/T/ipykernel_47314/2594892904.py:28: FutureWarning: The behavior of DataFrame concatenation with empty or all-NA entries is deprecated. In a future version, this will no longer exclude empty or all-NA columns when determining the result dtypes. To retain the old behavior, exclude the relevant entries before the concat operation.\n",
      "  results_df = pd.concat(\n"
     ]
    },
    {
     "name": "stdout",
     "output_type": "stream",
     "text": [
      "Fold: 0\n",
      "Parameters: {'C': 0.1, 'max_iter': 100, 'penalty': 'l2', 'solver': 'lbfgs'}\n",
      "\tF1 score: 0.7125378383815699\n"
     ]
    },
    {
     "name": "stderr",
     "output_type": "stream",
     "text": [
      "/Users/saulurso/anaconda3/envs/HLT/lib/python3.12/site-packages/sklearn/linear_model/_logistic.py:469: ConvergenceWarning: lbfgs failed to converge (status=1):\n",
      "STOP: TOTAL NO. of ITERATIONS REACHED LIMIT.\n",
      "\n",
      "Increase the number of iterations (max_iter) or scale the data as shown in:\n",
      "    https://scikit-learn.org/stable/modules/preprocessing.html\n",
      "Please also refer to the documentation for alternative solver options:\n",
      "    https://scikit-learn.org/stable/modules/linear_model.html#logistic-regression\n",
      "  n_iter_i = _check_optimize_result(\n"
     ]
    },
    {
     "name": "stdout",
     "output_type": "stream",
     "text": [
      "Fold: 1\n",
      "Parameters: {'C': 0.1, 'max_iter': 100, 'penalty': 'l2', 'solver': 'lbfgs'}\n",
      "\tF1 score: 0.7075759729670192\n"
     ]
    },
    {
     "name": "stderr",
     "output_type": "stream",
     "text": [
      "/Users/saulurso/anaconda3/envs/HLT/lib/python3.12/site-packages/sklearn/linear_model/_logistic.py:469: ConvergenceWarning: lbfgs failed to converge (status=1):\n",
      "STOP: TOTAL NO. of ITERATIONS REACHED LIMIT.\n",
      "\n",
      "Increase the number of iterations (max_iter) or scale the data as shown in:\n",
      "    https://scikit-learn.org/stable/modules/preprocessing.html\n",
      "Please also refer to the documentation for alternative solver options:\n",
      "    https://scikit-learn.org/stable/modules/linear_model.html#logistic-regression\n",
      "  n_iter_i = _check_optimize_result(\n"
     ]
    },
    {
     "name": "stdout",
     "output_type": "stream",
     "text": [
      "Fold: 2\n",
      "Parameters: {'C': 0.1, 'max_iter': 100, 'penalty': 'l2', 'solver': 'lbfgs'}\n",
      "\tF1 score: 0.7087589366945992\n"
     ]
    },
    {
     "name": "stderr",
     "output_type": "stream",
     "text": [
      "/Users/saulurso/anaconda3/envs/HLT/lib/python3.12/site-packages/sklearn/linear_model/_logistic.py:469: ConvergenceWarning: lbfgs failed to converge (status=1):\n",
      "STOP: TOTAL NO. of ITERATIONS REACHED LIMIT.\n",
      "\n",
      "Increase the number of iterations (max_iter) or scale the data as shown in:\n",
      "    https://scikit-learn.org/stable/modules/preprocessing.html\n",
      "Please also refer to the documentation for alternative solver options:\n",
      "    https://scikit-learn.org/stable/modules/linear_model.html#logistic-regression\n",
      "  n_iter_i = _check_optimize_result(\n"
     ]
    },
    {
     "name": "stdout",
     "output_type": "stream",
     "text": [
      "Fold: 3\n",
      "Parameters: {'C': 0.1, 'max_iter': 100, 'penalty': 'l2', 'solver': 'lbfgs'}\n",
      "\tF1 score: 0.7170629598584335\n"
     ]
    },
    {
     "name": "stderr",
     "output_type": "stream",
     "text": [
      "/Users/saulurso/anaconda3/envs/HLT/lib/python3.12/site-packages/sklearn/linear_model/_logistic.py:469: ConvergenceWarning: lbfgs failed to converge (status=1):\n",
      "STOP: TOTAL NO. of ITERATIONS REACHED LIMIT.\n",
      "\n",
      "Increase the number of iterations (max_iter) or scale the data as shown in:\n",
      "    https://scikit-learn.org/stable/modules/preprocessing.html\n",
      "Please also refer to the documentation for alternative solver options:\n",
      "    https://scikit-learn.org/stable/modules/linear_model.html#logistic-regression\n",
      "  n_iter_i = _check_optimize_result(\n"
     ]
    },
    {
     "name": "stdout",
     "output_type": "stream",
     "text": [
      "Fold: 4\n",
      "Parameters: {'C': 0.1, 'max_iter': 100, 'penalty': 'l2', 'solver': 'lbfgs'}\n",
      "\tF1 score: 0.7109510781232122\n"
     ]
    },
    {
     "name": "stderr",
     "output_type": "stream",
     "text": [
      "/Users/saulurso/anaconda3/envs/HLT/lib/python3.12/site-packages/sklearn/linear_model/_logistic.py:469: ConvergenceWarning: lbfgs failed to converge (status=1):\n",
      "STOP: TOTAL NO. of ITERATIONS REACHED LIMIT.\n",
      "\n",
      "Increase the number of iterations (max_iter) or scale the data as shown in:\n",
      "    https://scikit-learn.org/stable/modules/preprocessing.html\n",
      "Please also refer to the documentation for alternative solver options:\n",
      "    https://scikit-learn.org/stable/modules/linear_model.html#logistic-regression\n",
      "  n_iter_i = _check_optimize_result(\n"
     ]
    },
    {
     "name": "stdout",
     "output_type": "stream",
     "text": [
      "Fold: 0\n",
      "Parameters: {'C': 0.1, 'max_iter': 200, 'penalty': 'l2', 'solver': 'lbfgs'}\n",
      "\tF1 score: 0.7119477169786945\n",
      "Fold: 1\n",
      "Parameters: {'C': 0.1, 'max_iter': 200, 'penalty': 'l2', 'solver': 'lbfgs'}\n",
      "\tF1 score: 0.7084307259751759\n"
     ]
    },
    {
     "name": "stderr",
     "output_type": "stream",
     "text": [
      "/Users/saulurso/anaconda3/envs/HLT/lib/python3.12/site-packages/sklearn/linear_model/_logistic.py:469: ConvergenceWarning: lbfgs failed to converge (status=1):\n",
      "STOP: TOTAL NO. of ITERATIONS REACHED LIMIT.\n",
      "\n",
      "Increase the number of iterations (max_iter) or scale the data as shown in:\n",
      "    https://scikit-learn.org/stable/modules/preprocessing.html\n",
      "Please also refer to the documentation for alternative solver options:\n",
      "    https://scikit-learn.org/stable/modules/linear_model.html#logistic-regression\n",
      "  n_iter_i = _check_optimize_result(\n"
     ]
    },
    {
     "name": "stdout",
     "output_type": "stream",
     "text": [
      "Fold: 2\n",
      "Parameters: {'C': 0.1, 'max_iter': 200, 'penalty': 'l2', 'solver': 'lbfgs'}\n",
      "\tF1 score: 0.7086885496984883\n",
      "Fold: 3\n",
      "Parameters: {'C': 0.1, 'max_iter': 200, 'penalty': 'l2', 'solver': 'lbfgs'}\n",
      "\tF1 score: 0.7176799149614868\n",
      "Fold: 4\n",
      "Parameters: {'C': 0.1, 'max_iter': 200, 'penalty': 'l2', 'solver': 'lbfgs'}\n",
      "\tF1 score: 0.7106019852223948\n",
      "Fold: 0\n",
      "Parameters: {'C': 0.1, 'max_iter': 500, 'penalty': 'l2', 'solver': 'lbfgs'}\n",
      "\tF1 score: 0.7114874285339996\n",
      "Fold: 1\n",
      "Parameters: {'C': 0.1, 'max_iter': 500, 'penalty': 'l2', 'solver': 'lbfgs'}\n",
      "\tF1 score: 0.7084307259751759\n",
      "Fold: 2\n",
      "Parameters: {'C': 0.1, 'max_iter': 500, 'penalty': 'l2', 'solver': 'lbfgs'}\n",
      "\tF1 score: 0.7083398824928611\n",
      "Fold: 3\n",
      "Parameters: {'C': 0.1, 'max_iter': 500, 'penalty': 'l2', 'solver': 'lbfgs'}\n",
      "\tF1 score: 0.7176799149614868\n",
      "Fold: 4\n",
      "Parameters: {'C': 0.1, 'max_iter': 500, 'penalty': 'l2', 'solver': 'lbfgs'}\n",
      "\tF1 score: 0.7106019852223948\n",
      "Fold: 0\n",
      "Parameters: {'C': 0.1, 'max_iter': 1000, 'penalty': 'l2', 'solver': 'lbfgs'}\n",
      "\tF1 score: 0.7114874285339996\n",
      "Fold: 1\n",
      "Parameters: {'C': 0.1, 'max_iter': 1000, 'penalty': 'l2', 'solver': 'lbfgs'}\n",
      "\tF1 score: 0.7084307259751759\n",
      "Fold: 2\n",
      "Parameters: {'C': 0.1, 'max_iter': 1000, 'penalty': 'l2', 'solver': 'lbfgs'}\n",
      "\tF1 score: 0.7083398824928611\n",
      "Fold: 3\n",
      "Parameters: {'C': 0.1, 'max_iter': 1000, 'penalty': 'l2', 'solver': 'lbfgs'}\n",
      "\tF1 score: 0.7176799149614868\n",
      "Fold: 4\n",
      "Parameters: {'C': 0.1, 'max_iter': 1000, 'penalty': 'l2', 'solver': 'lbfgs'}\n",
      "\tF1 score: 0.7106019852223948\n"
     ]
    },
    {
     "name": "stderr",
     "output_type": "stream",
     "text": [
      "/Users/saulurso/anaconda3/envs/HLT/lib/python3.12/site-packages/sklearn/linear_model/_logistic.py:469: ConvergenceWarning: lbfgs failed to converge (status=1):\n",
      "STOP: TOTAL NO. of ITERATIONS REACHED LIMIT.\n",
      "\n",
      "Increase the number of iterations (max_iter) or scale the data as shown in:\n",
      "    https://scikit-learn.org/stable/modules/preprocessing.html\n",
      "Please also refer to the documentation for alternative solver options:\n",
      "    https://scikit-learn.org/stable/modules/linear_model.html#logistic-regression\n",
      "  n_iter_i = _check_optimize_result(\n"
     ]
    },
    {
     "name": "stdout",
     "output_type": "stream",
     "text": [
      "Fold: 0\n",
      "Parameters: {'C': 1.0, 'max_iter': 100, 'penalty': 'l2', 'solver': 'lbfgs'}\n",
      "\tF1 score: 0.7141933761888104\n"
     ]
    },
    {
     "name": "stderr",
     "output_type": "stream",
     "text": [
      "/Users/saulurso/anaconda3/envs/HLT/lib/python3.12/site-packages/sklearn/linear_model/_logistic.py:469: ConvergenceWarning: lbfgs failed to converge (status=1):\n",
      "STOP: TOTAL NO. of ITERATIONS REACHED LIMIT.\n",
      "\n",
      "Increase the number of iterations (max_iter) or scale the data as shown in:\n",
      "    https://scikit-learn.org/stable/modules/preprocessing.html\n",
      "Please also refer to the documentation for alternative solver options:\n",
      "    https://scikit-learn.org/stable/modules/linear_model.html#logistic-regression\n",
      "  n_iter_i = _check_optimize_result(\n"
     ]
    },
    {
     "name": "stdout",
     "output_type": "stream",
     "text": [
      "Fold: 1\n",
      "Parameters: {'C': 1.0, 'max_iter': 100, 'penalty': 'l2', 'solver': 'lbfgs'}\n",
      "\tF1 score: 0.7093012247125992\n"
     ]
    },
    {
     "name": "stderr",
     "output_type": "stream",
     "text": [
      "/Users/saulurso/anaconda3/envs/HLT/lib/python3.12/site-packages/sklearn/linear_model/_logistic.py:469: ConvergenceWarning: lbfgs failed to converge (status=1):\n",
      "STOP: TOTAL NO. of ITERATIONS REACHED LIMIT.\n",
      "\n",
      "Increase the number of iterations (max_iter) or scale the data as shown in:\n",
      "    https://scikit-learn.org/stable/modules/preprocessing.html\n",
      "Please also refer to the documentation for alternative solver options:\n",
      "    https://scikit-learn.org/stable/modules/linear_model.html#logistic-regression\n",
      "  n_iter_i = _check_optimize_result(\n"
     ]
    },
    {
     "name": "stdout",
     "output_type": "stream",
     "text": [
      "Fold: 2\n",
      "Parameters: {'C': 1.0, 'max_iter': 100, 'penalty': 'l2', 'solver': 'lbfgs'}\n",
      "\tF1 score: 0.7140620374310689\n"
     ]
    },
    {
     "name": "stderr",
     "output_type": "stream",
     "text": [
      "/Users/saulurso/anaconda3/envs/HLT/lib/python3.12/site-packages/sklearn/linear_model/_logistic.py:469: ConvergenceWarning: lbfgs failed to converge (status=1):\n",
      "STOP: TOTAL NO. of ITERATIONS REACHED LIMIT.\n",
      "\n",
      "Increase the number of iterations (max_iter) or scale the data as shown in:\n",
      "    https://scikit-learn.org/stable/modules/preprocessing.html\n",
      "Please also refer to the documentation for alternative solver options:\n",
      "    https://scikit-learn.org/stable/modules/linear_model.html#logistic-regression\n",
      "  n_iter_i = _check_optimize_result(\n"
     ]
    },
    {
     "name": "stdout",
     "output_type": "stream",
     "text": [
      "Fold: 3\n",
      "Parameters: {'C': 1.0, 'max_iter': 100, 'penalty': 'l2', 'solver': 'lbfgs'}\n",
      "\tF1 score: 0.7141376185164529\n"
     ]
    },
    {
     "name": "stderr",
     "output_type": "stream",
     "text": [
      "/Users/saulurso/anaconda3/envs/HLT/lib/python3.12/site-packages/sklearn/linear_model/_logistic.py:469: ConvergenceWarning: lbfgs failed to converge (status=1):\n",
      "STOP: TOTAL NO. of ITERATIONS REACHED LIMIT.\n",
      "\n",
      "Increase the number of iterations (max_iter) or scale the data as shown in:\n",
      "    https://scikit-learn.org/stable/modules/preprocessing.html\n",
      "Please also refer to the documentation for alternative solver options:\n",
      "    https://scikit-learn.org/stable/modules/linear_model.html#logistic-regression\n",
      "  n_iter_i = _check_optimize_result(\n"
     ]
    },
    {
     "name": "stdout",
     "output_type": "stream",
     "text": [
      "Fold: 4\n",
      "Parameters: {'C': 1.0, 'max_iter': 100, 'penalty': 'l2', 'solver': 'lbfgs'}\n",
      "\tF1 score: 0.7137799432154306\n",
      "Fold: 0\n",
      "Parameters: {'C': 1.0, 'max_iter': 200, 'penalty': 'l2', 'solver': 'lbfgs'}\n",
      "\tF1 score: 0.7157660828442516\n",
      "Fold: 1\n",
      "Parameters: {'C': 1.0, 'max_iter': 200, 'penalty': 'l2', 'solver': 'lbfgs'}\n",
      "\tF1 score: 0.7113553891921933\n",
      "Fold: 2\n",
      "Parameters: {'C': 1.0, 'max_iter': 200, 'penalty': 'l2', 'solver': 'lbfgs'}\n",
      "\tF1 score: 0.7122091321833794\n",
      "Fold: 3\n",
      "Parameters: {'C': 1.0, 'max_iter': 200, 'penalty': 'l2', 'solver': 'lbfgs'}\n",
      "\tF1 score: 0.7143725880828655\n",
      "Fold: 4\n",
      "Parameters: {'C': 1.0, 'max_iter': 200, 'penalty': 'l2', 'solver': 'lbfgs'}\n",
      "\tF1 score: 0.7127069370624528\n",
      "Fold: 0\n",
      "Parameters: {'C': 1.0, 'max_iter': 500, 'penalty': 'l2', 'solver': 'lbfgs'}\n",
      "\tF1 score: 0.7157660828442516\n",
      "Fold: 1\n",
      "Parameters: {'C': 1.0, 'max_iter': 500, 'penalty': 'l2', 'solver': 'lbfgs'}\n",
      "\tF1 score: 0.7113553891921933\n",
      "Fold: 2\n",
      "Parameters: {'C': 1.0, 'max_iter': 500, 'penalty': 'l2', 'solver': 'lbfgs'}\n",
      "\tF1 score: 0.7122091321833794\n",
      "Fold: 3\n",
      "Parameters: {'C': 1.0, 'max_iter': 500, 'penalty': 'l2', 'solver': 'lbfgs'}\n",
      "\tF1 score: 0.7143725880828655\n",
      "Fold: 4\n",
      "Parameters: {'C': 1.0, 'max_iter': 500, 'penalty': 'l2', 'solver': 'lbfgs'}\n",
      "\tF1 score: 0.7127069370624528\n",
      "Fold: 0\n",
      "Parameters: {'C': 1.0, 'max_iter': 1000, 'penalty': 'l2', 'solver': 'lbfgs'}\n",
      "\tF1 score: 0.7157660828442516\n",
      "Fold: 1\n",
      "Parameters: {'C': 1.0, 'max_iter': 1000, 'penalty': 'l2', 'solver': 'lbfgs'}\n",
      "\tF1 score: 0.7113553891921933\n",
      "Fold: 2\n",
      "Parameters: {'C': 1.0, 'max_iter': 1000, 'penalty': 'l2', 'solver': 'lbfgs'}\n",
      "\tF1 score: 0.7122091321833794\n",
      "Fold: 3\n",
      "Parameters: {'C': 1.0, 'max_iter': 1000, 'penalty': 'l2', 'solver': 'lbfgs'}\n",
      "\tF1 score: 0.7143725880828655\n",
      "Fold: 4\n",
      "Parameters: {'C': 1.0, 'max_iter': 1000, 'penalty': 'l2', 'solver': 'lbfgs'}\n",
      "\tF1 score: 0.7127069370624528\n"
     ]
    },
    {
     "name": "stderr",
     "output_type": "stream",
     "text": [
      "/Users/saulurso/anaconda3/envs/HLT/lib/python3.12/site-packages/sklearn/linear_model/_logistic.py:469: ConvergenceWarning: lbfgs failed to converge (status=1):\n",
      "STOP: TOTAL NO. of ITERATIONS REACHED LIMIT.\n",
      "\n",
      "Increase the number of iterations (max_iter) or scale the data as shown in:\n",
      "    https://scikit-learn.org/stable/modules/preprocessing.html\n",
      "Please also refer to the documentation for alternative solver options:\n",
      "    https://scikit-learn.org/stable/modules/linear_model.html#logistic-regression\n",
      "  n_iter_i = _check_optimize_result(\n"
     ]
    },
    {
     "name": "stdout",
     "output_type": "stream",
     "text": [
      "Fold: 0\n",
      "Parameters: {'C': 10.0, 'max_iter': 100, 'penalty': 'l2', 'solver': 'lbfgs'}\n",
      "\tF1 score: 0.7142987538604576\n"
     ]
    },
    {
     "name": "stderr",
     "output_type": "stream",
     "text": [
      "/Users/saulurso/anaconda3/envs/HLT/lib/python3.12/site-packages/sklearn/linear_model/_logistic.py:469: ConvergenceWarning: lbfgs failed to converge (status=1):\n",
      "STOP: TOTAL NO. of ITERATIONS REACHED LIMIT.\n",
      "\n",
      "Increase the number of iterations (max_iter) or scale the data as shown in:\n",
      "    https://scikit-learn.org/stable/modules/preprocessing.html\n",
      "Please also refer to the documentation for alternative solver options:\n",
      "    https://scikit-learn.org/stable/modules/linear_model.html#logistic-regression\n",
      "  n_iter_i = _check_optimize_result(\n"
     ]
    },
    {
     "name": "stdout",
     "output_type": "stream",
     "text": [
      "Fold: 1\n",
      "Parameters: {'C': 10.0, 'max_iter': 100, 'penalty': 'l2', 'solver': 'lbfgs'}\n",
      "\tF1 score: 0.7103224880361281\n"
     ]
    },
    {
     "name": "stderr",
     "output_type": "stream",
     "text": [
      "/Users/saulurso/anaconda3/envs/HLT/lib/python3.12/site-packages/sklearn/linear_model/_logistic.py:469: ConvergenceWarning: lbfgs failed to converge (status=1):\n",
      "STOP: TOTAL NO. of ITERATIONS REACHED LIMIT.\n",
      "\n",
      "Increase the number of iterations (max_iter) or scale the data as shown in:\n",
      "    https://scikit-learn.org/stable/modules/preprocessing.html\n",
      "Please also refer to the documentation for alternative solver options:\n",
      "    https://scikit-learn.org/stable/modules/linear_model.html#logistic-regression\n",
      "  n_iter_i = _check_optimize_result(\n"
     ]
    },
    {
     "name": "stdout",
     "output_type": "stream",
     "text": [
      "Fold: 2\n",
      "Parameters: {'C': 10.0, 'max_iter': 100, 'penalty': 'l2', 'solver': 'lbfgs'}\n",
      "\tF1 score: 0.7149903690117749\n"
     ]
    },
    {
     "name": "stderr",
     "output_type": "stream",
     "text": [
      "/Users/saulurso/anaconda3/envs/HLT/lib/python3.12/site-packages/sklearn/linear_model/_logistic.py:469: ConvergenceWarning: lbfgs failed to converge (status=1):\n",
      "STOP: TOTAL NO. of ITERATIONS REACHED LIMIT.\n",
      "\n",
      "Increase the number of iterations (max_iter) or scale the data as shown in:\n",
      "    https://scikit-learn.org/stable/modules/preprocessing.html\n",
      "Please also refer to the documentation for alternative solver options:\n",
      "    https://scikit-learn.org/stable/modules/linear_model.html#logistic-regression\n",
      "  n_iter_i = _check_optimize_result(\n"
     ]
    },
    {
     "name": "stdout",
     "output_type": "stream",
     "text": [
      "Fold: 3\n",
      "Parameters: {'C': 10.0, 'max_iter': 100, 'penalty': 'l2', 'solver': 'lbfgs'}\n",
      "\tF1 score: 0.7117861316781646\n"
     ]
    },
    {
     "name": "stderr",
     "output_type": "stream",
     "text": [
      "/Users/saulurso/anaconda3/envs/HLT/lib/python3.12/site-packages/sklearn/linear_model/_logistic.py:469: ConvergenceWarning: lbfgs failed to converge (status=1):\n",
      "STOP: TOTAL NO. of ITERATIONS REACHED LIMIT.\n",
      "\n",
      "Increase the number of iterations (max_iter) or scale the data as shown in:\n",
      "    https://scikit-learn.org/stable/modules/preprocessing.html\n",
      "Please also refer to the documentation for alternative solver options:\n",
      "    https://scikit-learn.org/stable/modules/linear_model.html#logistic-regression\n",
      "  n_iter_i = _check_optimize_result(\n"
     ]
    },
    {
     "name": "stdout",
     "output_type": "stream",
     "text": [
      "Fold: 4\n",
      "Parameters: {'C': 10.0, 'max_iter': 100, 'penalty': 'l2', 'solver': 'lbfgs'}\n",
      "\tF1 score: 0.7137503743370444\n",
      "Fold: 0\n",
      "Parameters: {'C': 10.0, 'max_iter': 200, 'penalty': 'l2', 'solver': 'lbfgs'}\n",
      "\tF1 score: 0.7158878248910285\n",
      "Fold: 1\n",
      "Parameters: {'C': 10.0, 'max_iter': 200, 'penalty': 'l2', 'solver': 'lbfgs'}\n",
      "\tF1 score: 0.7106717074598339\n"
     ]
    },
    {
     "name": "stderr",
     "output_type": "stream",
     "text": [
      "/Users/saulurso/anaconda3/envs/HLT/lib/python3.12/site-packages/sklearn/linear_model/_logistic.py:469: ConvergenceWarning: lbfgs failed to converge (status=1):\n",
      "STOP: TOTAL NO. of ITERATIONS REACHED LIMIT.\n",
      "\n",
      "Increase the number of iterations (max_iter) or scale the data as shown in:\n",
      "    https://scikit-learn.org/stable/modules/preprocessing.html\n",
      "Please also refer to the documentation for alternative solver options:\n",
      "    https://scikit-learn.org/stable/modules/linear_model.html#logistic-regression\n",
      "  n_iter_i = _check_optimize_result(\n"
     ]
    },
    {
     "name": "stdout",
     "output_type": "stream",
     "text": [
      "Fold: 2\n",
      "Parameters: {'C': 10.0, 'max_iter': 200, 'penalty': 'l2', 'solver': 'lbfgs'}\n",
      "\tF1 score: 0.7108188381359561\n",
      "Fold: 3\n",
      "Parameters: {'C': 10.0, 'max_iter': 200, 'penalty': 'l2', 'solver': 'lbfgs'}\n",
      "\tF1 score: 0.7124050118179277\n",
      "Fold: 4\n",
      "Parameters: {'C': 10.0, 'max_iter': 200, 'penalty': 'l2', 'solver': 'lbfgs'}\n",
      "\tF1 score: 0.7125528643784617\n",
      "Fold: 0\n",
      "Parameters: {'C': 10.0, 'max_iter': 500, 'penalty': 'l2', 'solver': 'lbfgs'}\n",
      "\tF1 score: 0.7158878248910285\n",
      "Fold: 1\n",
      "Parameters: {'C': 10.0, 'max_iter': 500, 'penalty': 'l2', 'solver': 'lbfgs'}\n",
      "\tF1 score: 0.7106717074598339\n",
      "Fold: 2\n",
      "Parameters: {'C': 10.0, 'max_iter': 500, 'penalty': 'l2', 'solver': 'lbfgs'}\n",
      "\tF1 score: 0.7112452806531158\n",
      "Fold: 3\n",
      "Parameters: {'C': 10.0, 'max_iter': 500, 'penalty': 'l2', 'solver': 'lbfgs'}\n",
      "\tF1 score: 0.7124050118179277\n",
      "Fold: 4\n",
      "Parameters: {'C': 10.0, 'max_iter': 500, 'penalty': 'l2', 'solver': 'lbfgs'}\n",
      "\tF1 score: 0.7125528643784617\n",
      "Fold: 0\n",
      "Parameters: {'C': 10.0, 'max_iter': 1000, 'penalty': 'l2', 'solver': 'lbfgs'}\n",
      "\tF1 score: 0.7158878248910285\n",
      "Fold: 1\n",
      "Parameters: {'C': 10.0, 'max_iter': 1000, 'penalty': 'l2', 'solver': 'lbfgs'}\n",
      "\tF1 score: 0.7106717074598339\n",
      "Fold: 2\n",
      "Parameters: {'C': 10.0, 'max_iter': 1000, 'penalty': 'l2', 'solver': 'lbfgs'}\n",
      "\tF1 score: 0.7112452806531158\n",
      "Fold: 3\n",
      "Parameters: {'C': 10.0, 'max_iter': 1000, 'penalty': 'l2', 'solver': 'lbfgs'}\n",
      "\tF1 score: 0.7124050118179277\n",
      "Fold: 4\n",
      "Parameters: {'C': 10.0, 'max_iter': 1000, 'penalty': 'l2', 'solver': 'lbfgs'}\n",
      "\tF1 score: 0.7125528643784617\n"
     ]
    },
    {
     "name": "stderr",
     "output_type": "stream",
     "text": [
      "/Users/saulurso/anaconda3/envs/HLT/lib/python3.12/site-packages/sklearn/linear_model/_logistic.py:469: ConvergenceWarning: lbfgs failed to converge (status=1):\n",
      "STOP: TOTAL NO. of ITERATIONS REACHED LIMIT.\n",
      "\n",
      "Increase the number of iterations (max_iter) or scale the data as shown in:\n",
      "    https://scikit-learn.org/stable/modules/preprocessing.html\n",
      "Please also refer to the documentation for alternative solver options:\n",
      "    https://scikit-learn.org/stable/modules/linear_model.html#logistic-regression\n",
      "  n_iter_i = _check_optimize_result(\n"
     ]
    },
    {
     "name": "stdout",
     "output_type": "stream",
     "text": [
      "Fold: 0\n",
      "Parameters: {'C': 100.0, 'max_iter': 100, 'penalty': 'l2', 'solver': 'lbfgs'}\n",
      "\tF1 score: 0.7141530294128609\n"
     ]
    },
    {
     "name": "stderr",
     "output_type": "stream",
     "text": [
      "/Users/saulurso/anaconda3/envs/HLT/lib/python3.12/site-packages/sklearn/linear_model/_logistic.py:469: ConvergenceWarning: lbfgs failed to converge (status=1):\n",
      "STOP: TOTAL NO. of ITERATIONS REACHED LIMIT.\n",
      "\n",
      "Increase the number of iterations (max_iter) or scale the data as shown in:\n",
      "    https://scikit-learn.org/stable/modules/preprocessing.html\n",
      "Please also refer to the documentation for alternative solver options:\n",
      "    https://scikit-learn.org/stable/modules/linear_model.html#logistic-regression\n",
      "  n_iter_i = _check_optimize_result(\n"
     ]
    },
    {
     "name": "stdout",
     "output_type": "stream",
     "text": [
      "Fold: 1\n",
      "Parameters: {'C': 100.0, 'max_iter': 100, 'penalty': 'l2', 'solver': 'lbfgs'}\n",
      "\tF1 score: 0.7099732686124225\n"
     ]
    },
    {
     "name": "stderr",
     "output_type": "stream",
     "text": [
      "/Users/saulurso/anaconda3/envs/HLT/lib/python3.12/site-packages/sklearn/linear_model/_logistic.py:469: ConvergenceWarning: lbfgs failed to converge (status=1):\n",
      "STOP: TOTAL NO. of ITERATIONS REACHED LIMIT.\n",
      "\n",
      "Increase the number of iterations (max_iter) or scale the data as shown in:\n",
      "    https://scikit-learn.org/stable/modules/preprocessing.html\n",
      "Please also refer to the documentation for alternative solver options:\n",
      "    https://scikit-learn.org/stable/modules/linear_model.html#logistic-regression\n",
      "  n_iter_i = _check_optimize_result(\n"
     ]
    },
    {
     "name": "stdout",
     "output_type": "stream",
     "text": [
      "Fold: 2\n",
      "Parameters: {'C': 100.0, 'max_iter': 100, 'penalty': 'l2', 'solver': 'lbfgs'}\n",
      "\tF1 score: 0.71495200872988\n"
     ]
    },
    {
     "name": "stderr",
     "output_type": "stream",
     "text": [
      "/Users/saulurso/anaconda3/envs/HLT/lib/python3.12/site-packages/sklearn/linear_model/_logistic.py:469: ConvergenceWarning: lbfgs failed to converge (status=1):\n",
      "STOP: TOTAL NO. of ITERATIONS REACHED LIMIT.\n",
      "\n",
      "Increase the number of iterations (max_iter) or scale the data as shown in:\n",
      "    https://scikit-learn.org/stable/modules/preprocessing.html\n",
      "Please also refer to the documentation for alternative solver options:\n",
      "    https://scikit-learn.org/stable/modules/linear_model.html#logistic-regression\n",
      "  n_iter_i = _check_optimize_result(\n"
     ]
    },
    {
     "name": "stdout",
     "output_type": "stream",
     "text": [
      "Fold: 3\n",
      "Parameters: {'C': 100.0, 'max_iter': 100, 'penalty': 'l2', 'solver': 'lbfgs'}\n",
      "\tF1 score: 0.7110156640489321\n"
     ]
    },
    {
     "name": "stderr",
     "output_type": "stream",
     "text": [
      "/Users/saulurso/anaconda3/envs/HLT/lib/python3.12/site-packages/sklearn/linear_model/_logistic.py:469: ConvergenceWarning: lbfgs failed to converge (status=1):\n",
      "STOP: TOTAL NO. of ITERATIONS REACHED LIMIT.\n",
      "\n",
      "Increase the number of iterations (max_iter) or scale the data as shown in:\n",
      "    https://scikit-learn.org/stable/modules/preprocessing.html\n",
      "Please also refer to the documentation for alternative solver options:\n",
      "    https://scikit-learn.org/stable/modules/linear_model.html#logistic-regression\n",
      "  n_iter_i = _check_optimize_result(\n"
     ]
    },
    {
     "name": "stdout",
     "output_type": "stream",
     "text": [
      "Fold: 4\n",
      "Parameters: {'C': 100.0, 'max_iter': 100, 'penalty': 'l2', 'solver': 'lbfgs'}\n",
      "\tF1 score: 0.713123693707275\n",
      "Fold: 0\n",
      "Parameters: {'C': 100.0, 'max_iter': 200, 'penalty': 'l2', 'solver': 'lbfgs'}\n",
      "\tF1 score: 0.716276804389956\n",
      "Fold: 1\n",
      "Parameters: {'C': 100.0, 'max_iter': 200, 'penalty': 'l2', 'solver': 'lbfgs'}\n",
      "\tF1 score: 0.711216503240808\n"
     ]
    },
    {
     "name": "stderr",
     "output_type": "stream",
     "text": [
      "/Users/saulurso/anaconda3/envs/HLT/lib/python3.12/site-packages/sklearn/linear_model/_logistic.py:469: ConvergenceWarning: lbfgs failed to converge (status=1):\n",
      "STOP: TOTAL NO. of ITERATIONS REACHED LIMIT.\n",
      "\n",
      "Increase the number of iterations (max_iter) or scale the data as shown in:\n",
      "    https://scikit-learn.org/stable/modules/preprocessing.html\n",
      "Please also refer to the documentation for alternative solver options:\n",
      "    https://scikit-learn.org/stable/modules/linear_model.html#logistic-regression\n",
      "  n_iter_i = _check_optimize_result(\n"
     ]
    },
    {
     "name": "stdout",
     "output_type": "stream",
     "text": [
      "Fold: 2\n",
      "Parameters: {'C': 100.0, 'max_iter': 200, 'penalty': 'l2', 'solver': 'lbfgs'}\n",
      "\tF1 score: 0.7119794610415533\n",
      "Fold: 3\n",
      "Parameters: {'C': 100.0, 'max_iter': 200, 'penalty': 'l2', 'solver': 'lbfgs'}\n",
      "\tF1 score: 0.712595989110929\n",
      "Fold: 4\n",
      "Parameters: {'C': 100.0, 'max_iter': 200, 'penalty': 'l2', 'solver': 'lbfgs'}\n",
      "\tF1 score: 0.7126320042162237\n",
      "Fold: 0\n",
      "Parameters: {'C': 100.0, 'max_iter': 500, 'penalty': 'l2', 'solver': 'lbfgs'}\n",
      "\tF1 score: 0.716276804389956\n",
      "Fold: 1\n",
      "Parameters: {'C': 100.0, 'max_iter': 500, 'penalty': 'l2', 'solver': 'lbfgs'}\n",
      "\tF1 score: 0.711216503240808\n",
      "Fold: 2\n",
      "Parameters: {'C': 100.0, 'max_iter': 500, 'penalty': 'l2', 'solver': 'lbfgs'}\n",
      "\tF1 score: 0.7114386767434789\n",
      "Fold: 3\n",
      "Parameters: {'C': 100.0, 'max_iter': 500, 'penalty': 'l2', 'solver': 'lbfgs'}\n",
      "\tF1 score: 0.712595989110929\n",
      "Fold: 4\n",
      "Parameters: {'C': 100.0, 'max_iter': 500, 'penalty': 'l2', 'solver': 'lbfgs'}\n",
      "\tF1 score: 0.7126320042162237\n",
      "Fold: 0\n",
      "Parameters: {'C': 100.0, 'max_iter': 1000, 'penalty': 'l2', 'solver': 'lbfgs'}\n",
      "\tF1 score: 0.716276804389956\n",
      "Fold: 1\n",
      "Parameters: {'C': 100.0, 'max_iter': 1000, 'penalty': 'l2', 'solver': 'lbfgs'}\n",
      "\tF1 score: 0.711216503240808\n",
      "Fold: 2\n",
      "Parameters: {'C': 100.0, 'max_iter': 1000, 'penalty': 'l2', 'solver': 'lbfgs'}\n",
      "\tF1 score: 0.7114386767434789\n",
      "Fold: 3\n",
      "Parameters: {'C': 100.0, 'max_iter': 1000, 'penalty': 'l2', 'solver': 'lbfgs'}\n",
      "\tF1 score: 0.712595989110929\n",
      "Fold: 4\n",
      "Parameters: {'C': 100.0, 'max_iter': 1000, 'penalty': 'l2', 'solver': 'lbfgs'}\n",
      "\tF1 score: 0.7126320042162237\n"
     ]
    },
    {
     "name": "stderr",
     "output_type": "stream",
     "text": [
      "/Users/saulurso/anaconda3/envs/HLT/lib/python3.12/site-packages/sklearn/linear_model/_logistic.py:469: ConvergenceWarning: lbfgs failed to converge (status=1):\n",
      "STOP: TOTAL NO. of ITERATIONS REACHED LIMIT.\n",
      "\n",
      "Increase the number of iterations (max_iter) or scale the data as shown in:\n",
      "    https://scikit-learn.org/stable/modules/preprocessing.html\n",
      "Please also refer to the documentation for alternative solver options:\n",
      "    https://scikit-learn.org/stable/modules/linear_model.html#logistic-regression\n",
      "  n_iter_i = _check_optimize_result(\n"
     ]
    },
    {
     "name": "stdout",
     "output_type": "stream",
     "text": [
      "Fold: 0\n",
      "Parameters: {'C': 1000.0, 'max_iter': 100, 'penalty': 'l2', 'solver': 'lbfgs'}\n",
      "\tF1 score: 0.715117542176522\n"
     ]
    },
    {
     "name": "stderr",
     "output_type": "stream",
     "text": [
      "/Users/saulurso/anaconda3/envs/HLT/lib/python3.12/site-packages/sklearn/linear_model/_logistic.py:469: ConvergenceWarning: lbfgs failed to converge (status=1):\n",
      "STOP: TOTAL NO. of ITERATIONS REACHED LIMIT.\n",
      "\n",
      "Increase the number of iterations (max_iter) or scale the data as shown in:\n",
      "    https://scikit-learn.org/stable/modules/preprocessing.html\n",
      "Please also refer to the documentation for alternative solver options:\n",
      "    https://scikit-learn.org/stable/modules/linear_model.html#logistic-regression\n",
      "  n_iter_i = _check_optimize_result(\n"
     ]
    },
    {
     "name": "stdout",
     "output_type": "stream",
     "text": [
      "Fold: 1\n",
      "Parameters: {'C': 1000.0, 'max_iter': 100, 'penalty': 'l2', 'solver': 'lbfgs'}\n",
      "\tF1 score: 0.7103070431480971\n"
     ]
    },
    {
     "name": "stderr",
     "output_type": "stream",
     "text": [
      "/Users/saulurso/anaconda3/envs/HLT/lib/python3.12/site-packages/sklearn/linear_model/_logistic.py:469: ConvergenceWarning: lbfgs failed to converge (status=1):\n",
      "STOP: TOTAL NO. of ITERATIONS REACHED LIMIT.\n",
      "\n",
      "Increase the number of iterations (max_iter) or scale the data as shown in:\n",
      "    https://scikit-learn.org/stable/modules/preprocessing.html\n",
      "Please also refer to the documentation for alternative solver options:\n",
      "    https://scikit-learn.org/stable/modules/linear_model.html#logistic-regression\n",
      "  n_iter_i = _check_optimize_result(\n"
     ]
    },
    {
     "name": "stdout",
     "output_type": "stream",
     "text": [
      "Fold: 2\n",
      "Parameters: {'C': 1000.0, 'max_iter': 100, 'penalty': 'l2', 'solver': 'lbfgs'}\n",
      "\tF1 score: 0.7127893529151399\n"
     ]
    },
    {
     "name": "stderr",
     "output_type": "stream",
     "text": [
      "/Users/saulurso/anaconda3/envs/HLT/lib/python3.12/site-packages/sklearn/linear_model/_logistic.py:469: ConvergenceWarning: lbfgs failed to converge (status=1):\n",
      "STOP: TOTAL NO. of ITERATIONS REACHED LIMIT.\n",
      "\n",
      "Increase the number of iterations (max_iter) or scale the data as shown in:\n",
      "    https://scikit-learn.org/stable/modules/preprocessing.html\n",
      "Please also refer to the documentation for alternative solver options:\n",
      "    https://scikit-learn.org/stable/modules/linear_model.html#logistic-regression\n",
      "  n_iter_i = _check_optimize_result(\n"
     ]
    },
    {
     "name": "stdout",
     "output_type": "stream",
     "text": [
      "Fold: 3\n",
      "Parameters: {'C': 1000.0, 'max_iter': 100, 'penalty': 'l2', 'solver': 'lbfgs'}\n",
      "\tF1 score: 0.712595989110929\n"
     ]
    },
    {
     "name": "stderr",
     "output_type": "stream",
     "text": [
      "/Users/saulurso/anaconda3/envs/HLT/lib/python3.12/site-packages/sklearn/linear_model/_logistic.py:469: ConvergenceWarning: lbfgs failed to converge (status=1):\n",
      "STOP: TOTAL NO. of ITERATIONS REACHED LIMIT.\n",
      "\n",
      "Increase the number of iterations (max_iter) or scale the data as shown in:\n",
      "    https://scikit-learn.org/stable/modules/preprocessing.html\n",
      "Please also refer to the documentation for alternative solver options:\n",
      "    https://scikit-learn.org/stable/modules/linear_model.html#logistic-regression\n",
      "  n_iter_i = _check_optimize_result(\n"
     ]
    },
    {
     "name": "stdout",
     "output_type": "stream",
     "text": [
      "Fold: 4\n",
      "Parameters: {'C': 1000.0, 'max_iter': 100, 'penalty': 'l2', 'solver': 'lbfgs'}\n",
      "\tF1 score: 0.7145211679973815\n",
      "Fold: 0\n",
      "Parameters: {'C': 1000.0, 'max_iter': 200, 'penalty': 'l2', 'solver': 'lbfgs'}\n",
      "\tF1 score: 0.7164309158264772\n",
      "Fold: 1\n",
      "Parameters: {'C': 1000.0, 'max_iter': 200, 'penalty': 'l2', 'solver': 'lbfgs'}\n",
      "\tF1 score: 0.7114120343696138\n",
      "Fold: 2\n",
      "Parameters: {'C': 1000.0, 'max_iter': 200, 'penalty': 'l2', 'solver': 'lbfgs'}\n",
      "\tF1 score: 0.7113204443798595\n",
      "Fold: 3\n",
      "Parameters: {'C': 1000.0, 'max_iter': 200, 'penalty': 'l2', 'solver': 'lbfgs'}\n",
      "\tF1 score: 0.712595989110929\n",
      "Fold: 4\n",
      "Parameters: {'C': 1000.0, 'max_iter': 200, 'penalty': 'l2', 'solver': 'lbfgs'}\n",
      "\tF1 score: 0.7122843115413493\n",
      "Fold: 0\n",
      "Parameters: {'C': 1000.0, 'max_iter': 500, 'penalty': 'l2', 'solver': 'lbfgs'}\n",
      "\tF1 score: 0.7164309158264772\n",
      "Fold: 1\n",
      "Parameters: {'C': 1000.0, 'max_iter': 500, 'penalty': 'l2', 'solver': 'lbfgs'}\n",
      "\tF1 score: 0.7114120343696138\n",
      "Fold: 2\n",
      "Parameters: {'C': 1000.0, 'max_iter': 500, 'penalty': 'l2', 'solver': 'lbfgs'}\n",
      "\tF1 score: 0.7113204443798595\n",
      "Fold: 3\n",
      "Parameters: {'C': 1000.0, 'max_iter': 500, 'penalty': 'l2', 'solver': 'lbfgs'}\n",
      "\tF1 score: 0.712595989110929\n",
      "Fold: 4\n",
      "Parameters: {'C': 1000.0, 'max_iter': 500, 'penalty': 'l2', 'solver': 'lbfgs'}\n",
      "\tF1 score: 0.7122843115413493\n",
      "Fold: 0\n",
      "Parameters: {'C': 1000.0, 'max_iter': 1000, 'penalty': 'l2', 'solver': 'lbfgs'}\n",
      "\tF1 score: 0.7164309158264772\n",
      "Fold: 1\n",
      "Parameters: {'C': 1000.0, 'max_iter': 1000, 'penalty': 'l2', 'solver': 'lbfgs'}\n",
      "\tF1 score: 0.7114120343696138\n",
      "Fold: 2\n",
      "Parameters: {'C': 1000.0, 'max_iter': 1000, 'penalty': 'l2', 'solver': 'lbfgs'}\n",
      "\tF1 score: 0.7113204443798595\n",
      "Fold: 3\n",
      "Parameters: {'C': 1000.0, 'max_iter': 1000, 'penalty': 'l2', 'solver': 'lbfgs'}\n",
      "\tF1 score: 0.712595989110929\n",
      "Fold: 4\n",
      "Parameters: {'C': 1000.0, 'max_iter': 1000, 'penalty': 'l2', 'solver': 'lbfgs'}\n",
      "\tF1 score: 0.7122843115413493\n"
     ]
    }
   ],
   "source": [
    "hyperparameters = {\n",
    "    \"penalty\": [\"l2\"],\n",
    "    \"C\": [0.1, 1.0, 10.0, 100.0, 1000.0],\n",
    "    \"solver\": [\"lbfgs\"],\n",
    "    \"max_iter\": [100, 200, 500,1000],\n",
    "}\n",
    "\n",
    "param_grid = list(ParameterGrid(hyperparameters))\n",
    "\n",
    "results_df = pd.DataFrame(\n",
    "    columns=[\"penalty\", \"C\", \"solver\", \"max_iter\", \"Fold\", \"F1 Score\"]\n",
    ")\n",
    "\n",
    "for par in param_grid:\n",
    "    for idx, (X_train_fold, y_train_fold, X_val_fold, y_val_fold) in enumerate(\n",
    "        zip(X_train, y_train, X_val, y_val)\n",
    "    ):\n",
    "        model = LogisticRegression(**par)\n",
    "        model.fit(X_train_fold, y_train_fold)\n",
    "\n",
    "        # Compute F1 score on validation set\n",
    "        y_val_pred = model.predict(X_val_fold)\n",
    "        f1_macro = f1_score(y_val_fold, y_val_pred, average=\"macro\")\n",
    "\n",
    "        print(f\"Fold: {idx}\")\n",
    "        print(f\"Parameters: {par}\")\n",
    "        print(f\"\\tF1 score: {f1_macro}\")\n",
    "        results_df = pd.concat(\n",
    "            [\n",
    "                results_df,\n",
    "                pd.DataFrame(\n",
    "                    {\n",
    "                        \"penalty\": par[\"penalty\"],\n",
    "                        \"C\": par[\"C\"],\n",
    "                        \"solver\": par[\"solver\"],\n",
    "                        \"max_iter\": par[\"max_iter\"],\n",
    "                        \"Fold\": idx,\n",
    "                        \"F1 Score\": f1_macro,\n",
    "                    },\n",
    "                    index=[0],\n",
    "                ),\n",
    "            ],\n",
    "            ignore_index=True,\n",
    "        )\n",
    "\n",
    "results_df.to_csv(RES_DIR+\"results-Logistic-ftx-batch1.csv\", index=False)"
   ]
  },
  {
   "cell_type": "code",
   "execution_count": 9,
   "metadata": {},
   "outputs": [],
   "source": [
    "mean_f1 = results_df.groupby(['penalty', 'C', 'solver', 'max_iter'])['F1 Score'].mean()\n",
    "std_f1 = results_df.groupby(['penalty', 'C', 'solver', 'max_iter'])['F1 Score'].std()"
   ]
  },
  {
   "cell_type": "code",
   "execution_count": 10,
   "metadata": {},
   "outputs": [
    {
     "data": {
      "text/plain": [
       "penalty  C       solver  max_iter\n",
       "l2       0.1     lbfgs   100         0.711377\n",
       "                         200         0.711470\n",
       "                         500         0.711308\n",
       "                         1000        0.711308\n",
       "         1.0     lbfgs   100         0.713095\n",
       "                         200         0.713282\n",
       "                         500         0.713282\n",
       "                         1000        0.713282\n",
       "         10.0    lbfgs   100         0.713030\n",
       "                         200         0.712467\n",
       "                         500         0.712553\n",
       "                         1000        0.712553\n",
       "         100.0   lbfgs   100         0.712644\n",
       "                         200         0.712940\n",
       "                         500         0.712832\n",
       "                         1000        0.712832\n",
       "         1000.0  lbfgs   100         0.713066\n",
       "                         200         0.712809\n",
       "                         500         0.712809\n",
       "                         1000        0.712809\n",
       "Name: F1 Score, dtype: float64"
      ]
     },
     "execution_count": 10,
     "metadata": {},
     "output_type": "execute_result"
    }
   ],
   "source": [
    "mean_f1"
   ]
  }
 ],
 "metadata": {
  "kernelspec": {
   "display_name": "HLT",
   "language": "python",
   "name": "python3"
  },
  "language_info": {
   "codemirror_mode": {
    "name": "ipython",
    "version": 3
   },
   "file_extension": ".py",
   "mimetype": "text/x-python",
   "name": "python",
   "nbconvert_exporter": "python",
   "pygments_lexer": "ipython3",
   "version": "3.12.2"
  }
 },
 "nbformat": 4,
 "nbformat_minor": 2
}
