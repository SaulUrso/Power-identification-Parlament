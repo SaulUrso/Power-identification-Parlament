{
 "cells": [
  {
   "cell_type": "markdown",
   "metadata": {},
   "source": [
    "# Notebook regarding measurements with RNNs"
   ]
  },
  {
   "cell_type": "markdown",
   "metadata": {},
   "source": [
    "## Saving the dataset"
   ]
  },
  {
   "cell_type": "code",
   "execution_count": 1,
   "metadata": {},
   "outputs": [
    {
     "name": "stderr",
     "output_type": "stream",
     "text": [
      "c:\\Users\\mirda\\OneDrive\\Desktop\\Group4-project\\hltenv\\Lib\\site-packages\\torchtext\\vocab\\__init__.py:4: UserWarning: \n",
      "/!\\ IMPORTANT WARNING ABOUT TORCHTEXT STATUS /!\\ \n",
      "Torchtext is deprecated and the last released version will be 0.18 (this one). You can silence this warning by calling the following at the beginnign of your scripts: `import torchtext; torchtext.disable_torchtext_deprecation_warning()`\n",
      "  warnings.warn(torchtext._TORCHTEXT_DEPRECATION_MSG)\n",
      "c:\\Users\\mirda\\OneDrive\\Desktop\\Group4-project\\hltenv\\Lib\\site-packages\\torchtext\\utils.py:4: UserWarning: \n",
      "/!\\ IMPORTANT WARNING ABOUT TORCHTEXT STATUS /!\\ \n",
      "Torchtext is deprecated and the last released version will be 0.18 (this one). You can silence this warning by calling the following at the beginnign of your scripts: `import torchtext; torchtext.disable_torchtext_deprecation_warning()`\n",
      "  warnings.warn(torchtext._TORCHTEXT_DEPRECATION_MSG)\n",
      "c:\\Users\\mirda\\OneDrive\\Desktop\\Group4-project\\hltenv\\Lib\\site-packages\\torchtext\\data\\__init__.py:4: UserWarning: \n",
      "/!\\ IMPORTANT WARNING ABOUT TORCHTEXT STATUS /!\\ \n",
      "Torchtext is deprecated and the last released version will be 0.18 (this one). You can silence this warning by calling the following at the beginnign of your scripts: `import torchtext; torchtext.disable_torchtext_deprecation_warning()`\n",
      "  warnings.warn(torchtext._TORCHTEXT_DEPRECATION_MSG)\n"
     ]
    }
   ],
   "source": [
    "import datautils\n",
    "import torch\n",
    "from torch.utils.data import DataLoader\n",
    "import pickle\n",
    "import torch.nn as nn\n",
    "import RNNutils\n",
    "import time\n",
    "import pandas as pd\n",
    "from torchtext.data import get_tokenizer"
   ]
  },
  {
   "cell_type": "code",
   "execution_count": 2,
   "metadata": {},
   "outputs": [],
   "source": [
    "DATASET = \"./Dataset/power-gb-train.tsv\"\n",
    "DATA_DIR = \"./Dataset/\"\n",
    "RES_DIR = \"./Results/\"\n",
    "EMBED_DIR = \"./Embeddings/\"\n",
    "CHECK_DIR = \"./Checkpoints/\"\n",
    "DEVICE = datautils.get_device()"
   ]
  },
  {
   "cell_type": "markdown",
   "metadata": {},
   "source": [
    "load the dataset (with hold-out)"
   ]
  },
  {
   "cell_type": "code",
   "execution_count": 7,
   "metadata": {},
   "outputs": [
    {
     "name": "stdout",
     "output_type": "stream",
     "text": [
      "72276 2 min_freq\n",
      "46491 3 min_freq\n",
      "37987 4 min_freq\n",
      "33080 5 min_freq\n",
      "29729 6 min_freq\n",
      "27245 7 min_freq\n",
      "25353 8 min_freq\n",
      "23816 9 min_freq\n",
      "22555 10 min_freq\n",
      "21529 11 min_freq\n",
      "20552 12 min_freq\n",
      "19712 13 min_freq\n",
      "18970 14 min_freq\n",
      "18299 15 min_freq\n",
      "17669 16 min_freq\n",
      "17070 17 min_freq\n",
      "16575 18 min_freq\n",
      "16108 19 min_freq\n",
      "15623 20 min_freq\n",
      "15203 21 min_freq\n",
      "14864 22 min_freq\n",
      "14495 23 min_freq\n",
      "14173 24 min_freq\n",
      "13883 25 min_freq\n",
      "13564 26 min_freq\n",
      "13267 27 min_freq\n",
      "12996 28 min_freq\n",
      "12756 29 min_freq\n",
      "12553 30 min_freq\n",
      "12356 31 min_freq\n",
      "12150 32 min_freq\n",
      "11959 33 min_freq\n",
      "11747 34 min_freq\n",
      "11550 35 min_freq\n",
      "11374 36 min_freq\n",
      "11174 37 min_freq\n",
      "10984 38 min_freq\n",
      "10830 39 min_freq\n",
      "10679 40 min_freq\n",
      "10514 41 min_freq\n",
      "10381 42 min_freq\n",
      "10228 43 min_freq\n",
      "10092 44 min_freq\n",
      "9944 45 min_freq\n"
     ]
    }
   ],
   "source": [
    "from collections import Counter\n",
    "\n",
    "\n",
    "X_train, y_train, X_val, y_val, X_test, y_test = (\n",
    "    datautils.split_holdout_dataset(DATASET)\n",
    ")\n",
    "\n",
    "# get tokenizer\n",
    "tokenizer = get_tokenizer(\"spacy\", language=\"en_core_web_sm\")\n",
    "\n",
    "# build vocabulary\n",
    "min_freq = 1\n",
    "curr_vocab = None\n",
    "while curr_vocab is None or len(curr_vocab) > 10000:\n",
    "    curr_vocab = datautils.build_vocab(X_train, tokenizer, min_freq=min_freq)\n",
    "    curr_vocab.set_default_index(curr_vocab[\"<unk>\"])\n",
    "    min_freq += 1\n",
    "    print(len(curr_vocab), f\"{min_freq} min_freq\")\n",
    "\n",
    "# process datasets\n",
    "X_train = datautils.data_process(X_train, curr_vocab, tokenizer)\n",
    "X_val = datautils.data_process(X_val, curr_vocab, tokenizer)\n",
    "X_test = datautils.data_process(X_test, curr_vocab, tokenizer)\n",
    "\n",
    "# create dataset objects\n",
    "X_train = datautils.TextDataset(X_train, y_train, curr_vocab)\n",
    "X_val = datautils.TextDataset(X_val, y_val, curr_vocab)\n",
    "X_test = datautils.TextDataset(X_test, y_test, curr_vocab)\n",
    "\n",
    "# save datasets\n",
    "torch.save(X_train, f\"{DATA_DIR}train_dataset.pt\")\n",
    "torch.save(X_val, f\"{DATA_DIR}val_dataset.pt\")\n",
    "torch.save(X_test, f\"{DATA_DIR}test_dataset.pt\")\n",
    "\n",
    "# save vocabulary with pickle\n",
    "with open(f\"{EMBED_DIR}vocab.pkl\", \"wb\") as f:\n",
    "    pickle.dump(curr_vocab, f)"
   ]
  },
  {
   "cell_type": "markdown",
   "metadata": {},
   "source": [
    "Please execute this cell only when you want to use pretrained embeddings, otherwise skip if you don't intend to."
   ]
  },
  {
   "cell_type": "code",
   "execution_count": 3,
   "metadata": {},
   "outputs": [],
   "source": [
    "from gensim.downloader import load\n",
    "\n",
    "EMBEDDING = \"word2vec-ruscorpora-300\"\n",
    "# download the embedding\n",
    "pretrained_embeddings = load(EMBEDDING)\n",
    "vector_embeddings = None\n",
    "with open(f\"{EMBED_DIR}vocab.pkl\", \"rb\") as f:\n",
    "    curr_vocab = pickle.load(f)\n",
    "    # Create a matrix to store the vectors\n",
    "    vector_embeddings = torch.zeros(\n",
    "        len(curr_vocab), pretrained_embeddings.vector_size\n",
    "    )\n",
    "\n",
    "    # Set the vectors for our vocabulary words\n",
    "    for i, word in enumerate(curr_vocab.get_itos()):\n",
    "        if word in pretrained_embeddings:\n",
    "            vector_embeddings[i] = torch.tensor(pretrained_embeddings[word])"
   ]
  },
  {
   "cell_type": "markdown",
   "metadata": {},
   "source": [
    "### Training hold-out validation"
   ]
  },
  {
   "cell_type": "code",
   "execution_count": 4,
   "metadata": {},
   "outputs": [],
   "source": [
    "import pandas as pd\n",
    "import itertools"
   ]
  },
  {
   "cell_type": "code",
   "execution_count": 5,
   "metadata": {},
   "outputs": [],
   "source": [
    "# load the datasets\n",
    "train_dataset = torch.load(f\"{DATA_DIR}train_dataset.pt\")\n",
    "val_dataset = torch.load(f\"{DATA_DIR}val_dataset.pt\")\n",
    "\n",
    "# load the vocabulary\n",
    "with open(f\"{EMBED_DIR}vocab.pkl\", \"rb\") as f:\n",
    "    curr_vocab = pickle.load(f)"
   ]
  },
  {
   "cell_type": "code",
   "execution_count": 6,
   "metadata": {},
   "outputs": [],
   "source": [
    "N_EPOCHS = 1000\n",
    "CLIP = 1\n",
    "BATCH_SIZE = 8\n",
    "EMBEDDING_DIM = 128\n",
    "HIDDEN_DIM = 1024\n",
    "OUTPUT_DIM = 1\n",
    "INPUT_DIM = len(curr_vocab)\n",
    "PATIECE = 10\n",
    "CHECKPOINT_STEPS = 10\n",
    "DROP_OUT = 0.2\n",
    "LAYERS = 3\n",
    "MEAN_POOL = True\n",
    "SEED = 0\n",
    "# experiment number\n",
    "RES_NUM = 12\n",
    "\n",
    "\n",
    "learning_rate_list = [0.001]\n",
    "weight_decay_list = [0]"
   ]
  },
  {
   "cell_type": "markdown",
   "metadata": {},
   "source": [
    "If you wish to use a pretrainded model, please set the embedding dimension to the same size as pretrained embedding and execute the cell necessary to load it."
   ]
  },
  {
   "cell_type": "code",
   "execution_count": 7,
   "metadata": {},
   "outputs": [],
   "source": [
    "torch.manual_seed(SEED)\n",
    "model = RNNutils.BiLSTM(\n",
    "    INPUT_DIM,\n",
    "    300,  # set to the same size as the pretrained embeddings, else use EMBEDDING_DIM\n",
    "    HIDDEN_DIM,\n",
    "    output_dim=OUTPUT_DIM,\n",
    "    dropout=DROP_OUT,\n",
    "    n_layers=LAYERS,\n",
    "    mean_pooling=MEAN_POOL,\n",
    "    pretrained_embedding=vector_embeddings,  # leave to None for no pretrained embeddings\n",
    "    device=DEVICE,\n",
    ").to(DEVICE)\n",
    "\n",
    "train_iterator = DataLoader(\n",
    "    train_dataset,\n",
    "    batch_size=BATCH_SIZE,\n",
    "    shuffle=True,\n",
    "    collate_fn=train_dataset.generate_batch,\n",
    ")\n",
    "val_iterator = DataLoader(\n",
    "    val_dataset,\n",
    "    batch_size=BATCH_SIZE,\n",
    "    shuffle=True,\n",
    "    collate_fn=val_dataset.generate_batch,\n",
    ")\n",
    "criterion = nn.BCELoss()\n",
    "optimizer = torch.optim.Adam(model.parameters(), lr=learning_rate_list[0])"
   ]
  },
  {
   "cell_type": "code",
   "execution_count": 8,
   "metadata": {},
   "outputs": [
    {
     "data": {
      "text/plain": [
       "BiLSTM(\n",
       "  (embedding): Embedding(9944, 300)\n",
       "  (lstm): LSTM(300, 1024, batch_first=True, bidirectional=True)\n",
       "  (fc): Sequential(\n",
       "    (0): Linear(in_features=2048, out_features=1024, bias=True)\n",
       "    (1): Dropout(p=0.2, inplace=False)\n",
       "    (2): Sigmoid()\n",
       "    (3): Linear(in_features=1024, out_features=1024, bias=True)\n",
       "    (4): Dropout(p=0.2, inplace=False)\n",
       "    (5): Sigmoid()\n",
       "    (6): Linear(in_features=1024, out_features=1, bias=True)\n",
       "  )\n",
       "  (dropout): Dropout(p=0.2, inplace=False)\n",
       "  (activation): Sigmoid()\n",
       ")"
      ]
     },
     "execution_count": 8,
     "metadata": {},
     "output_type": "execute_result"
    }
   ],
   "source": [
    "model"
   ]
  },
  {
   "cell_type": "code",
   "execution_count": 9,
   "metadata": {},
   "outputs": [
    {
     "name": "stdout",
     "output_type": "stream",
     "text": [
      "Training...\n",
      "Evaluating...\n"
     ]
    },
    {
     "name": "stderr",
     "output_type": "stream",
     "text": [
      "c:\\Users\\mirda\\OneDrive\\Desktop\\Group4-project\\hltenv\\Lib\\site-packages\\sklearn\\metrics\\_classification.py:1517: UndefinedMetricWarning: Precision is ill-defined and being set to 0.0 in labels with no predicted samples. Use `zero_division` parameter to control this behavior.\n",
      "  _warn_prf(average, modifier, f\"{metric.capitalize()} is\", len(result))\n",
      "C:\\Users\\mirda\\AppData\\Local\\Temp\\ipykernel_27660\\756629584.py:46: FutureWarning: The behavior of DataFrame concatenation with empty or all-NA entries is deprecated. In a future version, this will no longer exclude empty or all-NA columns when determining the result dtypes. To retain the old behavior, exclude the relevant entries before the concat operation.\n",
      "  results = pd.concat(\n"
     ]
    },
    {
     "name": "stdout",
     "output_type": "stream",
     "text": [
      "Epoch: 1 | Time: 75.02s\n",
      "\tTrain Loss: 0.704\n",
      "\t Val. Loss: 0.713\n",
      "\t Val. Precision: 0.284, Recall: 0.500, F1 Score: 0.362\n",
      "Training...\n",
      "Evaluating...\n"
     ]
    },
    {
     "name": "stderr",
     "output_type": "stream",
     "text": [
      "c:\\Users\\mirda\\OneDrive\\Desktop\\Group4-project\\hltenv\\Lib\\site-packages\\sklearn\\metrics\\_classification.py:1517: UndefinedMetricWarning: Precision is ill-defined and being set to 0.0 in labels with no predicted samples. Use `zero_division` parameter to control this behavior.\n",
      "  _warn_prf(average, modifier, f\"{metric.capitalize()} is\", len(result))\n"
     ]
    },
    {
     "name": "stdout",
     "output_type": "stream",
     "text": [
      "Epoch: 2 | Time: 65.52s\n",
      "\tTrain Loss: 0.701\n",
      "\t Val. Loss: 0.695\n",
      "\t Val. Precision: 0.284, Recall: 0.500, F1 Score: 0.362\n",
      "Training...\n",
      "Evaluating...\n"
     ]
    },
    {
     "name": "stderr",
     "output_type": "stream",
     "text": [
      "c:\\Users\\mirda\\OneDrive\\Desktop\\Group4-project\\hltenv\\Lib\\site-packages\\sklearn\\metrics\\_classification.py:1517: UndefinedMetricWarning: Precision is ill-defined and being set to 0.0 in labels with no predicted samples. Use `zero_division` parameter to control this behavior.\n",
      "  _warn_prf(average, modifier, f\"{metric.capitalize()} is\", len(result))\n"
     ]
    },
    {
     "name": "stdout",
     "output_type": "stream",
     "text": [
      "Epoch: 3 | Time: 58.69s\n",
      "\tTrain Loss: 0.703\n",
      "\t Val. Loss: 0.685\n",
      "\t Val. Precision: 0.284, Recall: 0.500, F1 Score: 0.362\n",
      "Training...\n",
      "Evaluating...\n",
      "Epoch: 4 | Time: 59.91s\n",
      "\tTrain Loss: 0.705\n",
      "\t Val. Loss: 0.684\n",
      "\t Val. Precision: 0.284, Recall: 0.500, F1 Score: 0.362\n",
      "Training...\n"
     ]
    },
    {
     "name": "stderr",
     "output_type": "stream",
     "text": [
      "c:\\Users\\mirda\\OneDrive\\Desktop\\Group4-project\\hltenv\\Lib\\site-packages\\sklearn\\metrics\\_classification.py:1517: UndefinedMetricWarning: Precision is ill-defined and being set to 0.0 in labels with no predicted samples. Use `zero_division` parameter to control this behavior.\n",
      "  _warn_prf(average, modifier, f\"{metric.capitalize()} is\", len(result))\n"
     ]
    },
    {
     "name": "stdout",
     "output_type": "stream",
     "text": [
      "Evaluating...\n"
     ]
    },
    {
     "name": "stderr",
     "output_type": "stream",
     "text": [
      "c:\\Users\\mirda\\OneDrive\\Desktop\\Group4-project\\hltenv\\Lib\\site-packages\\sklearn\\metrics\\_classification.py:1517: UndefinedMetricWarning: Precision is ill-defined and being set to 0.0 in labels with no predicted samples. Use `zero_division` parameter to control this behavior.\n",
      "  _warn_prf(average, modifier, f\"{metric.capitalize()} is\", len(result))\n"
     ]
    },
    {
     "name": "stdout",
     "output_type": "stream",
     "text": [
      "Epoch: 5 | Time: 56.78s\n",
      "\tTrain Loss: 0.704\n",
      "\t Val. Loss: 0.692\n",
      "\t Val. Precision: 0.284, Recall: 0.500, F1 Score: 0.362\n",
      "Training...\n",
      "Evaluating...\n"
     ]
    },
    {
     "name": "stderr",
     "output_type": "stream",
     "text": [
      "c:\\Users\\mirda\\OneDrive\\Desktop\\Group4-project\\hltenv\\Lib\\site-packages\\sklearn\\metrics\\_classification.py:1517: UndefinedMetricWarning: Precision is ill-defined and being set to 0.0 in labels with no predicted samples. Use `zero_division` parameter to control this behavior.\n",
      "  _warn_prf(average, modifier, f\"{metric.capitalize()} is\", len(result))\n"
     ]
    },
    {
     "name": "stdout",
     "output_type": "stream",
     "text": [
      "Epoch: 6 | Time: 65.23s\n",
      "\tTrain Loss: 0.704\n",
      "\t Val. Loss: 0.685\n",
      "\t Val. Precision: 0.284, Recall: 0.500, F1 Score: 0.362\n",
      "Training...\n",
      "Evaluating...\n"
     ]
    },
    {
     "name": "stderr",
     "output_type": "stream",
     "text": [
      "c:\\Users\\mirda\\OneDrive\\Desktop\\Group4-project\\hltenv\\Lib\\site-packages\\sklearn\\metrics\\_classification.py:1517: UndefinedMetricWarning: Precision is ill-defined and being set to 0.0 in labels with no predicted samples. Use `zero_division` parameter to control this behavior.\n",
      "  _warn_prf(average, modifier, f\"{metric.capitalize()} is\", len(result))\n"
     ]
    },
    {
     "name": "stdout",
     "output_type": "stream",
     "text": [
      "Epoch: 7 | Time: 66.95s\n",
      "\tTrain Loss: 0.702\n",
      "\t Val. Loss: 0.708\n",
      "\t Val. Precision: 0.216, Recall: 0.500, F1 Score: 0.302\n",
      "Training...\n",
      "Evaluating...\n"
     ]
    },
    {
     "name": "stderr",
     "output_type": "stream",
     "text": [
      "c:\\Users\\mirda\\OneDrive\\Desktop\\Group4-project\\hltenv\\Lib\\site-packages\\sklearn\\metrics\\_classification.py:1517: UndefinedMetricWarning: Precision is ill-defined and being set to 0.0 in labels with no predicted samples. Use `zero_division` parameter to control this behavior.\n",
      "  _warn_prf(average, modifier, f\"{metric.capitalize()} is\", len(result))\n"
     ]
    },
    {
     "name": "stdout",
     "output_type": "stream",
     "text": [
      "Epoch: 8 | Time: 70.48s\n",
      "\tTrain Loss: 0.703\n",
      "\t Val. Loss: 0.700\n",
      "\t Val. Precision: 0.284, Recall: 0.500, F1 Score: 0.362\n",
      "Training...\n",
      "Evaluating...\n"
     ]
    },
    {
     "name": "stderr",
     "output_type": "stream",
     "text": [
      "c:\\Users\\mirda\\OneDrive\\Desktop\\Group4-project\\hltenv\\Lib\\site-packages\\sklearn\\metrics\\_classification.py:1517: UndefinedMetricWarning: Precision is ill-defined and being set to 0.0 in labels with no predicted samples. Use `zero_division` parameter to control this behavior.\n",
      "  _warn_prf(average, modifier, f\"{metric.capitalize()} is\", len(result))\n"
     ]
    },
    {
     "name": "stdout",
     "output_type": "stream",
     "text": [
      "Epoch: 9 | Time: 71.16s\n",
      "\tTrain Loss: 0.706\n",
      "\t Val. Loss: 0.686\n",
      "\t Val. Precision: 0.284, Recall: 0.500, F1 Score: 0.362\n",
      "Training...\n",
      "Evaluating...\n"
     ]
    },
    {
     "name": "stderr",
     "output_type": "stream",
     "text": [
      "c:\\Users\\mirda\\OneDrive\\Desktop\\Group4-project\\hltenv\\Lib\\site-packages\\sklearn\\metrics\\_classification.py:1517: UndefinedMetricWarning: Precision is ill-defined and being set to 0.0 in labels with no predicted samples. Use `zero_division` parameter to control this behavior.\n",
      "  _warn_prf(average, modifier, f\"{metric.capitalize()} is\", len(result))\n"
     ]
    },
    {
     "name": "stdout",
     "output_type": "stream",
     "text": [
      "Epoch: 10 | Time: 70.31s\n",
      "\tTrain Loss: 0.703\n",
      "\t Val. Loss: 0.686\n",
      "\t Val. Precision: 0.284, Recall: 0.500, F1 Score: 0.362\n",
      "Training...\n",
      "Evaluating...\n"
     ]
    },
    {
     "name": "stderr",
     "output_type": "stream",
     "text": [
      "c:\\Users\\mirda\\OneDrive\\Desktop\\Group4-project\\hltenv\\Lib\\site-packages\\sklearn\\metrics\\_classification.py:1517: UndefinedMetricWarning: Precision is ill-defined and being set to 0.0 in labels with no predicted samples. Use `zero_division` parameter to control this behavior.\n",
      "  _warn_prf(average, modifier, f\"{metric.capitalize()} is\", len(result))\n"
     ]
    },
    {
     "name": "stdout",
     "output_type": "stream",
     "text": [
      "Epoch: 11 | Time: 63.66s\n",
      "\tTrain Loss: 0.703\n",
      "\t Val. Loss: 0.684\n",
      "\t Val. Precision: 0.284, Recall: 0.500, F1 Score: 0.362\n",
      "Training...\n",
      "Evaluating...\n"
     ]
    },
    {
     "name": "stderr",
     "output_type": "stream",
     "text": [
      "c:\\Users\\mirda\\OneDrive\\Desktop\\Group4-project\\hltenv\\Lib\\site-packages\\sklearn\\metrics\\_classification.py:1517: UndefinedMetricWarning: Precision is ill-defined and being set to 0.0 in labels with no predicted samples. Use `zero_division` parameter to control this behavior.\n",
      "  _warn_prf(average, modifier, f\"{metric.capitalize()} is\", len(result))\n"
     ]
    },
    {
     "name": "stdout",
     "output_type": "stream",
     "text": [
      "Epoch: 12 | Time: 65.00s\n",
      "\tTrain Loss: 0.706\n",
      "\t Val. Loss: 0.696\n",
      "\t Val. Precision: 0.216, Recall: 0.500, F1 Score: 0.302\n",
      "Training...\n",
      "Evaluating...\n"
     ]
    },
    {
     "name": "stderr",
     "output_type": "stream",
     "text": [
      "c:\\Users\\mirda\\OneDrive\\Desktop\\Group4-project\\hltenv\\Lib\\site-packages\\sklearn\\metrics\\_classification.py:1517: UndefinedMetricWarning: Precision is ill-defined and being set to 0.0 in labels with no predicted samples. Use `zero_division` parameter to control this behavior.\n",
      "  _warn_prf(average, modifier, f\"{metric.capitalize()} is\", len(result))\n"
     ]
    },
    {
     "name": "stdout",
     "output_type": "stream",
     "text": [
      "Epoch: 13 | Time: 61.69s\n",
      "\tTrain Loss: 0.703\n",
      "\t Val. Loss: 0.692\n",
      "\t Val. Precision: 0.284, Recall: 0.500, F1 Score: 0.362\n",
      "Training...\n",
      "Evaluating...\n"
     ]
    },
    {
     "name": "stderr",
     "output_type": "stream",
     "text": [
      "c:\\Users\\mirda\\OneDrive\\Desktop\\Group4-project\\hltenv\\Lib\\site-packages\\sklearn\\metrics\\_classification.py:1517: UndefinedMetricWarning: Precision is ill-defined and being set to 0.0 in labels with no predicted samples. Use `zero_division` parameter to control this behavior.\n",
      "  _warn_prf(average, modifier, f\"{metric.capitalize()} is\", len(result))\n"
     ]
    },
    {
     "name": "stdout",
     "output_type": "stream",
     "text": [
      "Epoch: 14 | Time: 64.84s\n",
      "\tTrain Loss: 0.703\n",
      "\t Val. Loss: 0.693\n",
      "\t Val. Precision: 0.216, Recall: 0.500, F1 Score: 0.302\n",
      "Training...\n",
      "Evaluating...\n"
     ]
    },
    {
     "name": "stderr",
     "output_type": "stream",
     "text": [
      "c:\\Users\\mirda\\OneDrive\\Desktop\\Group4-project\\hltenv\\Lib\\site-packages\\sklearn\\metrics\\_classification.py:1517: UndefinedMetricWarning: Precision is ill-defined and being set to 0.0 in labels with no predicted samples. Use `zero_division` parameter to control this behavior.\n",
      "  _warn_prf(average, modifier, f\"{metric.capitalize()} is\", len(result))\n"
     ]
    },
    {
     "name": "stdout",
     "output_type": "stream",
     "text": [
      "Epoch: 15 | Time: 64.36s\n",
      "\tTrain Loss: 0.706\n",
      "\t Val. Loss: 0.690\n",
      "\t Val. Precision: 0.284, Recall: 0.500, F1 Score: 0.362\n",
      "Training...\n",
      "Evaluating...\n"
     ]
    },
    {
     "name": "stderr",
     "output_type": "stream",
     "text": [
      "c:\\Users\\mirda\\OneDrive\\Desktop\\Group4-project\\hltenv\\Lib\\site-packages\\sklearn\\metrics\\_classification.py:1517: UndefinedMetricWarning: Precision is ill-defined and being set to 0.0 in labels with no predicted samples. Use `zero_division` parameter to control this behavior.\n",
      "  _warn_prf(average, modifier, f\"{metric.capitalize()} is\", len(result))\n"
     ]
    },
    {
     "name": "stdout",
     "output_type": "stream",
     "text": [
      "Epoch: 16 | Time: 59.34s\n",
      "\tTrain Loss: 0.704\n",
      "\t Val. Loss: 0.689\n",
      "\t Val. Precision: 0.284, Recall: 0.500, F1 Score: 0.362\n",
      "Training...\n",
      "Evaluating...\n"
     ]
    },
    {
     "name": "stderr",
     "output_type": "stream",
     "text": [
      "c:\\Users\\mirda\\OneDrive\\Desktop\\Group4-project\\hltenv\\Lib\\site-packages\\sklearn\\metrics\\_classification.py:1517: UndefinedMetricWarning: Precision is ill-defined and being set to 0.0 in labels with no predicted samples. Use `zero_division` parameter to control this behavior.\n",
      "  _warn_prf(average, modifier, f\"{metric.capitalize()} is\", len(result))\n"
     ]
    },
    {
     "name": "stdout",
     "output_type": "stream",
     "text": [
      "Epoch: 17 | Time: 67.06s\n",
      "\tTrain Loss: 0.703\n",
      "\t Val. Loss: 0.691\n",
      "\t Val. Precision: 0.284, Recall: 0.500, F1 Score: 0.362\n",
      "Training...\n",
      "Evaluating...\n"
     ]
    },
    {
     "name": "stderr",
     "output_type": "stream",
     "text": [
      "c:\\Users\\mirda\\OneDrive\\Desktop\\Group4-project\\hltenv\\Lib\\site-packages\\sklearn\\metrics\\_classification.py:1517: UndefinedMetricWarning: Precision is ill-defined and being set to 0.0 in labels with no predicted samples. Use `zero_division` parameter to control this behavior.\n",
      "  _warn_prf(average, modifier, f\"{metric.capitalize()} is\", len(result))\n"
     ]
    },
    {
     "name": "stdout",
     "output_type": "stream",
     "text": [
      "Epoch: 18 | Time: 67.83s\n",
      "\tTrain Loss: 0.702\n",
      "\t Val. Loss: 0.686\n",
      "\t Val. Precision: 0.284, Recall: 0.500, F1 Score: 0.362\n",
      "Training...\n",
      "Evaluating...\n"
     ]
    },
    {
     "name": "stderr",
     "output_type": "stream",
     "text": [
      "c:\\Users\\mirda\\OneDrive\\Desktop\\Group4-project\\hltenv\\Lib\\site-packages\\sklearn\\metrics\\_classification.py:1517: UndefinedMetricWarning: Precision is ill-defined and being set to 0.0 in labels with no predicted samples. Use `zero_division` parameter to control this behavior.\n",
      "  _warn_prf(average, modifier, f\"{metric.capitalize()} is\", len(result))\n"
     ]
    },
    {
     "name": "stdout",
     "output_type": "stream",
     "text": [
      "Epoch: 19 | Time: 71.03s\n",
      "\tTrain Loss: 0.704\n",
      "\t Val. Loss: 0.689\n",
      "\t Val. Precision: 0.284, Recall: 0.500, F1 Score: 0.362\n",
      "Training...\n",
      "Evaluating...\n"
     ]
    },
    {
     "name": "stderr",
     "output_type": "stream",
     "text": [
      "c:\\Users\\mirda\\OneDrive\\Desktop\\Group4-project\\hltenv\\Lib\\site-packages\\sklearn\\metrics\\_classification.py:1517: UndefinedMetricWarning: Precision is ill-defined and being set to 0.0 in labels with no predicted samples. Use `zero_division` parameter to control this behavior.\n",
      "  _warn_prf(average, modifier, f\"{metric.capitalize()} is\", len(result))\n"
     ]
    },
    {
     "name": "stdout",
     "output_type": "stream",
     "text": [
      "Epoch: 20 | Time: 68.98s\n",
      "\tTrain Loss: 0.703\n",
      "\t Val. Loss: 0.703\n",
      "\t Val. Precision: 0.216, Recall: 0.500, F1 Score: 0.302\n",
      "Training...\n",
      "Evaluating...\n",
      "Epoch: 21 | Time: 65.44s\n",
      "\tTrain Loss: 0.703\n",
      "\t Val. Loss: 0.695\n",
      "\t Val. Precision: 0.216, Recall: 0.500, F1 Score: 0.302\n"
     ]
    },
    {
     "name": "stderr",
     "output_type": "stream",
     "text": [
      "c:\\Users\\mirda\\OneDrive\\Desktop\\Group4-project\\hltenv\\Lib\\site-packages\\sklearn\\metrics\\_classification.py:1517: UndefinedMetricWarning: Precision is ill-defined and being set to 0.0 in labels with no predicted samples. Use `zero_division` parameter to control this behavior.\n",
      "  _warn_prf(average, modifier, f\"{metric.capitalize()} is\", len(result))\n"
     ]
    }
   ],
   "source": [
    "min_loss = float(\"inf\")\n",
    "patience = PATIECE\n",
    "\n",
    "# initailize dataframe for results\n",
    "results = pd.DataFrame(\n",
    "    columns=[\n",
    "        \"optim\",\n",
    "        \"lr\",\n",
    "        \"weight_decay\",\n",
    "        \"epoch\",\n",
    "        \"train_loss\",\n",
    "        \"val_loss\",\n",
    "        \"precision\",\n",
    "        \"recall\",\n",
    "        \"f1_score\",\n",
    "    ]\n",
    ")\n",
    "\n",
    "for lr, weight_decay in itertools.product(\n",
    "    learning_rate_list, weight_decay_list\n",
    "):\n",
    "\n",
    "    for epoch in range(N_EPOCHS):\n",
    "\n",
    "        start_time = time.process_time()\n",
    "\n",
    "        print(\"Training...\")\n",
    "        train_loss = RNNutils.train_rnn(\n",
    "            model,\n",
    "            train_iterator,\n",
    "            optimizer,\n",
    "            criterion,\n",
    "            CLIP,  # device=DEVICE\n",
    "            device=DEVICE,\n",
    "        )\n",
    "        print(\"Evaluating...\")\n",
    "        valid_loss, precision, recall, f1_score = RNNutils.evaluate(\n",
    "            model,\n",
    "            val_iterator,\n",
    "            criterion,  # device=DEVICE\n",
    "            device=DEVICE,\n",
    "        )\n",
    "\n",
    "        end_time = time.process_time()\n",
    "\n",
    "        results = pd.concat(\n",
    "            [\n",
    "                results,\n",
    "                pd.DataFrame(\n",
    "                    {\n",
    "                        \"optim\": \"Adam\",\n",
    "                        \"lr\": lr,\n",
    "                        \"weight_decay\": 0,\n",
    "                        \"epoch\": [epoch + 1],\n",
    "                        \"train_loss\": [train_loss],\n",
    "                        \"val_loss\": [valid_loss],\n",
    "                        \"precision\": [precision],\n",
    "                        \"recall\": [recall],\n",
    "                        \"f1_score\": [f1_score],\n",
    "                    }\n",
    "                ),\n",
    "            ]\n",
    "        )\n",
    "\n",
    "        # save model checkpoint every 10 epochs\n",
    "        if (epoch + 1) % CHECKPOINT_STEPS == 0:\n",
    "            torch.save(\n",
    "                {\n",
    "                    \"epoch\": epoch,\n",
    "                    \"model_state_dict\": model.state_dict(),\n",
    "                    \"optimizer_state_dict\": optimizer.state_dict(),\n",
    "                    \"loss\": valid_loss,\n",
    "                    \"patience\": patience,\n",
    "                },\n",
    "                f\"{RES_DIR}rnn_checkpoint_{epoch + 1}.pt\",\n",
    "            )\n",
    "            results.to_csv(\n",
    "                f\"{RES_DIR}rnn_results-{RES_NUM}-temp.csv\", index=False\n",
    "            )\n",
    "\n",
    "        print(f\"Epoch: {epoch+1} | Time: {end_time-start_time:.2f}s\")\n",
    "        print(f\"\\tTrain Loss: {train_loss:.3f}\")\n",
    "        print(f\"\\t Val. Loss: {valid_loss:.3f}\")\n",
    "        print(\n",
    "            f\"\\t Val. Precision: {precision:.3f}, Recall: {recall:.3f}, F1 Score: {f1_score:.3f}\"\n",
    "        )\n",
    "\n",
    "        # early stopping\n",
    "        if valid_loss < min_loss:\n",
    "            min_loss = valid_loss\n",
    "            patience = PATIECE\n",
    "        else:\n",
    "            patience -= 1\n",
    "\n",
    "        if patience == 0:\n",
    "            break\n",
    "results.to_csv(f\"{RES_DIR}bilstm-results{RES_NUM}.csv\", index=False)"
   ]
  },
  {
   "cell_type": "code",
   "execution_count": 11,
   "metadata": {},
   "outputs": [
    {
     "data": {
      "text/html": [
       "<div>\n",
       "<style scoped>\n",
       "    .dataframe tbody tr th:only-of-type {\n",
       "        vertical-align: middle;\n",
       "    }\n",
       "\n",
       "    .dataframe tbody tr th {\n",
       "        vertical-align: top;\n",
       "    }\n",
       "\n",
       "    .dataframe thead th {\n",
       "        text-align: right;\n",
       "    }\n",
       "</style>\n",
       "<table border=\"1\" class=\"dataframe\">\n",
       "  <thead>\n",
       "    <tr style=\"text-align: right;\">\n",
       "      <th></th>\n",
       "      <th>optim</th>\n",
       "      <th>lr</th>\n",
       "      <th>weight_decay</th>\n",
       "      <th>epoch</th>\n",
       "      <th>train_loss</th>\n",
       "      <th>val_loss</th>\n",
       "      <th>precision</th>\n",
       "      <th>recall</th>\n",
       "      <th>f1_score</th>\n",
       "    </tr>\n",
       "  </thead>\n",
       "  <tbody>\n",
       "    <tr>\n",
       "      <th>20</th>\n",
       "      <td>Adam</td>\n",
       "      <td>0.001</td>\n",
       "      <td>0</td>\n",
       "      <td>21</td>\n",
       "      <td>0.702761</td>\n",
       "      <td>0.694779</td>\n",
       "      <td>0.215968</td>\n",
       "      <td>0.5</td>\n",
       "      <td>0.301645</td>\n",
       "    </tr>\n",
       "    <tr>\n",
       "      <th>6</th>\n",
       "      <td>Adam</td>\n",
       "      <td>0.001</td>\n",
       "      <td>0</td>\n",
       "      <td>7</td>\n",
       "      <td>0.702255</td>\n",
       "      <td>0.707960</td>\n",
       "      <td>0.215968</td>\n",
       "      <td>0.5</td>\n",
       "      <td>0.301645</td>\n",
       "    </tr>\n",
       "    <tr>\n",
       "      <th>13</th>\n",
       "      <td>Adam</td>\n",
       "      <td>0.001</td>\n",
       "      <td>0</td>\n",
       "      <td>14</td>\n",
       "      <td>0.703440</td>\n",
       "      <td>0.693417</td>\n",
       "      <td>0.215968</td>\n",
       "      <td>0.5</td>\n",
       "      <td>0.301645</td>\n",
       "    </tr>\n",
       "    <tr>\n",
       "      <th>11</th>\n",
       "      <td>Adam</td>\n",
       "      <td>0.001</td>\n",
       "      <td>0</td>\n",
       "      <td>12</td>\n",
       "      <td>0.706107</td>\n",
       "      <td>0.695673</td>\n",
       "      <td>0.215968</td>\n",
       "      <td>0.5</td>\n",
       "      <td>0.301645</td>\n",
       "    </tr>\n",
       "    <tr>\n",
       "      <th>19</th>\n",
       "      <td>Adam</td>\n",
       "      <td>0.001</td>\n",
       "      <td>0</td>\n",
       "      <td>20</td>\n",
       "      <td>0.702863</td>\n",
       "      <td>0.703047</td>\n",
       "      <td>0.215968</td>\n",
       "      <td>0.5</td>\n",
       "      <td>0.301645</td>\n",
       "    </tr>\n",
       "    <tr>\n",
       "      <th>18</th>\n",
       "      <td>Adam</td>\n",
       "      <td>0.001</td>\n",
       "      <td>0</td>\n",
       "      <td>19</td>\n",
       "      <td>0.703807</td>\n",
       "      <td>0.689012</td>\n",
       "      <td>0.284032</td>\n",
       "      <td>0.5</td>\n",
       "      <td>0.362271</td>\n",
       "    </tr>\n",
       "    <tr>\n",
       "      <th>17</th>\n",
       "      <td>Adam</td>\n",
       "      <td>0.001</td>\n",
       "      <td>0</td>\n",
       "      <td>18</td>\n",
       "      <td>0.701934</td>\n",
       "      <td>0.686279</td>\n",
       "      <td>0.284032</td>\n",
       "      <td>0.5</td>\n",
       "      <td>0.362271</td>\n",
       "    </tr>\n",
       "    <tr>\n",
       "      <th>16</th>\n",
       "      <td>Adam</td>\n",
       "      <td>0.001</td>\n",
       "      <td>0</td>\n",
       "      <td>17</td>\n",
       "      <td>0.703139</td>\n",
       "      <td>0.691401</td>\n",
       "      <td>0.284032</td>\n",
       "      <td>0.5</td>\n",
       "      <td>0.362271</td>\n",
       "    </tr>\n",
       "    <tr>\n",
       "      <th>15</th>\n",
       "      <td>Adam</td>\n",
       "      <td>0.001</td>\n",
       "      <td>0</td>\n",
       "      <td>16</td>\n",
       "      <td>0.704091</td>\n",
       "      <td>0.688685</td>\n",
       "      <td>0.284032</td>\n",
       "      <td>0.5</td>\n",
       "      <td>0.362271</td>\n",
       "    </tr>\n",
       "    <tr>\n",
       "      <th>14</th>\n",
       "      <td>Adam</td>\n",
       "      <td>0.001</td>\n",
       "      <td>0</td>\n",
       "      <td>15</td>\n",
       "      <td>0.706379</td>\n",
       "      <td>0.690040</td>\n",
       "      <td>0.284032</td>\n",
       "      <td>0.5</td>\n",
       "      <td>0.362271</td>\n",
       "    </tr>\n",
       "    <tr>\n",
       "      <th>12</th>\n",
       "      <td>Adam</td>\n",
       "      <td>0.001</td>\n",
       "      <td>0</td>\n",
       "      <td>13</td>\n",
       "      <td>0.703159</td>\n",
       "      <td>0.691842</td>\n",
       "      <td>0.284032</td>\n",
       "      <td>0.5</td>\n",
       "      <td>0.362271</td>\n",
       "    </tr>\n",
       "    <tr>\n",
       "      <th>0</th>\n",
       "      <td>Adam</td>\n",
       "      <td>0.001</td>\n",
       "      <td>0</td>\n",
       "      <td>1</td>\n",
       "      <td>0.704393</td>\n",
       "      <td>0.713138</td>\n",
       "      <td>0.284032</td>\n",
       "      <td>0.5</td>\n",
       "      <td>0.362271</td>\n",
       "    </tr>\n",
       "    <tr>\n",
       "      <th>8</th>\n",
       "      <td>Adam</td>\n",
       "      <td>0.001</td>\n",
       "      <td>0</td>\n",
       "      <td>9</td>\n",
       "      <td>0.705795</td>\n",
       "      <td>0.685605</td>\n",
       "      <td>0.284032</td>\n",
       "      <td>0.5</td>\n",
       "      <td>0.362271</td>\n",
       "    </tr>\n",
       "    <tr>\n",
       "      <th>7</th>\n",
       "      <td>Adam</td>\n",
       "      <td>0.001</td>\n",
       "      <td>0</td>\n",
       "      <td>8</td>\n",
       "      <td>0.703206</td>\n",
       "      <td>0.699856</td>\n",
       "      <td>0.284032</td>\n",
       "      <td>0.5</td>\n",
       "      <td>0.362271</td>\n",
       "    </tr>\n",
       "    <tr>\n",
       "      <th>5</th>\n",
       "      <td>Adam</td>\n",
       "      <td>0.001</td>\n",
       "      <td>0</td>\n",
       "      <td>6</td>\n",
       "      <td>0.703693</td>\n",
       "      <td>0.685339</td>\n",
       "      <td>0.284032</td>\n",
       "      <td>0.5</td>\n",
       "      <td>0.362271</td>\n",
       "    </tr>\n",
       "    <tr>\n",
       "      <th>4</th>\n",
       "      <td>Adam</td>\n",
       "      <td>0.001</td>\n",
       "      <td>0</td>\n",
       "      <td>5</td>\n",
       "      <td>0.704273</td>\n",
       "      <td>0.691713</td>\n",
       "      <td>0.284032</td>\n",
       "      <td>0.5</td>\n",
       "      <td>0.362271</td>\n",
       "    </tr>\n",
       "    <tr>\n",
       "      <th>3</th>\n",
       "      <td>Adam</td>\n",
       "      <td>0.001</td>\n",
       "      <td>0</td>\n",
       "      <td>4</td>\n",
       "      <td>0.705033</td>\n",
       "      <td>0.684143</td>\n",
       "      <td>0.284032</td>\n",
       "      <td>0.5</td>\n",
       "      <td>0.362271</td>\n",
       "    </tr>\n",
       "    <tr>\n",
       "      <th>2</th>\n",
       "      <td>Adam</td>\n",
       "      <td>0.001</td>\n",
       "      <td>0</td>\n",
       "      <td>3</td>\n",
       "      <td>0.702579</td>\n",
       "      <td>0.685164</td>\n",
       "      <td>0.284032</td>\n",
       "      <td>0.5</td>\n",
       "      <td>0.362271</td>\n",
       "    </tr>\n",
       "    <tr>\n",
       "      <th>1</th>\n",
       "      <td>Adam</td>\n",
       "      <td>0.001</td>\n",
       "      <td>0</td>\n",
       "      <td>2</td>\n",
       "      <td>0.701162</td>\n",
       "      <td>0.694960</td>\n",
       "      <td>0.284032</td>\n",
       "      <td>0.5</td>\n",
       "      <td>0.362271</td>\n",
       "    </tr>\n",
       "    <tr>\n",
       "      <th>9</th>\n",
       "      <td>Adam</td>\n",
       "      <td>0.001</td>\n",
       "      <td>0</td>\n",
       "      <td>10</td>\n",
       "      <td>0.703087</td>\n",
       "      <td>0.686059</td>\n",
       "      <td>0.284032</td>\n",
       "      <td>0.5</td>\n",
       "      <td>0.362271</td>\n",
       "    </tr>\n",
       "    <tr>\n",
       "      <th>10</th>\n",
       "      <td>Adam</td>\n",
       "      <td>0.001</td>\n",
       "      <td>0</td>\n",
       "      <td>11</td>\n",
       "      <td>0.702925</td>\n",
       "      <td>0.683908</td>\n",
       "      <td>0.284032</td>\n",
       "      <td>0.5</td>\n",
       "      <td>0.362271</td>\n",
       "    </tr>\n",
       "  </tbody>\n",
       "</table>\n",
       "</div>"
      ],
      "text/plain": [
       "   optim     lr  weight_decay  epoch  train_loss  val_loss  precision  recall  \\\n",
       "20  Adam  0.001             0     21    0.702761  0.694779   0.215968     0.5   \n",
       "6   Adam  0.001             0      7    0.702255  0.707960   0.215968     0.5   \n",
       "13  Adam  0.001             0     14    0.703440  0.693417   0.215968     0.5   \n",
       "11  Adam  0.001             0     12    0.706107  0.695673   0.215968     0.5   \n",
       "19  Adam  0.001             0     20    0.702863  0.703047   0.215968     0.5   \n",
       "18  Adam  0.001             0     19    0.703807  0.689012   0.284032     0.5   \n",
       "17  Adam  0.001             0     18    0.701934  0.686279   0.284032     0.5   \n",
       "16  Adam  0.001             0     17    0.703139  0.691401   0.284032     0.5   \n",
       "15  Adam  0.001             0     16    0.704091  0.688685   0.284032     0.5   \n",
       "14  Adam  0.001             0     15    0.706379  0.690040   0.284032     0.5   \n",
       "12  Adam  0.001             0     13    0.703159  0.691842   0.284032     0.5   \n",
       "0   Adam  0.001             0      1    0.704393  0.713138   0.284032     0.5   \n",
       "8   Adam  0.001             0      9    0.705795  0.685605   0.284032     0.5   \n",
       "7   Adam  0.001             0      8    0.703206  0.699856   0.284032     0.5   \n",
       "5   Adam  0.001             0      6    0.703693  0.685339   0.284032     0.5   \n",
       "4   Adam  0.001             0      5    0.704273  0.691713   0.284032     0.5   \n",
       "3   Adam  0.001             0      4    0.705033  0.684143   0.284032     0.5   \n",
       "2   Adam  0.001             0      3    0.702579  0.685164   0.284032     0.5   \n",
       "1   Adam  0.001             0      2    0.701162  0.694960   0.284032     0.5   \n",
       "9   Adam  0.001             0     10    0.703087  0.686059   0.284032     0.5   \n",
       "10  Adam  0.001             0     11    0.702925  0.683908   0.284032     0.5   \n",
       "\n",
       "    f1_score  \n",
       "20  0.301645  \n",
       "6   0.301645  \n",
       "13  0.301645  \n",
       "11  0.301645  \n",
       "19  0.301645  \n",
       "18  0.362271  \n",
       "17  0.362271  \n",
       "16  0.362271  \n",
       "15  0.362271  \n",
       "14  0.362271  \n",
       "12  0.362271  \n",
       "0   0.362271  \n",
       "8   0.362271  \n",
       "7   0.362271  \n",
       "5   0.362271  \n",
       "4   0.362271  \n",
       "3   0.362271  \n",
       "2   0.362271  \n",
       "1   0.362271  \n",
       "9   0.362271  \n",
       "10  0.362271  "
      ]
     },
     "execution_count": 11,
     "metadata": {},
     "output_type": "execute_result"
    }
   ],
   "source": [
    "results = pd.read_csv(f\"{RES_DIR}bilstm-results{RES_NUM}.csv\")\n",
    "results.sort_values(\"f1_score\", inplace=True)\n",
    "results"
   ]
  },
  {
   "cell_type": "code",
   "execution_count": 13,
   "metadata": {},
   "outputs": [
    {
     "name": "stderr",
     "output_type": "stream",
     "text": [
      "c:\\Users\\mirda\\OneDrive\\Desktop\\Group4-project\\hltenv\\Lib\\site-packages\\sklearn\\metrics\\_classification.py:1517: UndefinedMetricWarning: Precision is ill-defined and being set to 0.0 in labels with no predicted samples. Use `zero_division` parameter to control this behavior.\n",
      "  _warn_prf(average, modifier, f\"{metric.capitalize()} is\", len(result))\n"
     ]
    },
    {
     "name": "stdout",
     "output_type": "stream",
     "text": [
      "0.6947248345957353 0.21707757065544198 0.5 0.3027253668763103\n",
      "confusion matrix\n",
      "(array([[2586,    0],\n",
      "       [3401,    0]], dtype=int64), 0.21596793051611826, 0.5, 0.3016446984719468)\n"
     ]
    },
    {
     "name": "stderr",
     "output_type": "stream",
     "text": [
      "c:\\Users\\mirda\\OneDrive\\Desktop\\Group4-project\\hltenv\\Lib\\site-packages\\sklearn\\metrics\\_classification.py:1517: UndefinedMetricWarning: Precision is ill-defined and being set to 0.0 in labels with no predicted samples. Use `zero_division` parameter to control this behavior.\n",
      "  _warn_prf(average, modifier, f\"{metric.capitalize()} is\", len(result))\n"
     ]
    }
   ],
   "source": [
    "with torch.no_grad():\n",
    "    test_dataset = torch.load(f\"{DATA_DIR}test_dataset.pt\")\n",
    "    test_iterator = DataLoader(\n",
    "        test_dataset,\n",
    "        batch_size=BATCH_SIZE,\n",
    "        collate_fn=train_dataset.generate_batch,\n",
    "        shuffle=True,\n",
    "    )\n",
    "    test_loss, precision, recall, f1_score = RNNutils.evaluate(\n",
    "        model,\n",
    "        test_iterator,\n",
    "        criterion,  # device=DEVICE\n",
    "        device=DEVICE,\n",
    "    )\n",
    "    print(test_loss, precision, recall, f1_score)\n",
    "    print(\"confusion matrix\")\n",
    "    print(\n",
    "        RNNutils.evaluate_confusion_matrix(\n",
    "            model, val_iterator, criterion, device=DEVICE\n",
    "        )\n",
    "    )"
   ]
  }
 ],
 "metadata": {
  "kernelspec": {
   "display_name": "HLT",
   "language": "python",
   "name": "python3"
  },
  "language_info": {
   "codemirror_mode": {
    "name": "ipython",
    "version": 3
   },
   "file_extension": ".py",
   "mimetype": "text/x-python",
   "name": "python",
   "nbconvert_exporter": "python",
   "pygments_lexer": "ipython3",
   "version": "3.11.8"
  }
 },
 "nbformat": 4,
 "nbformat_minor": 2
}
